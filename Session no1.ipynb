{
 "cells": [
  {
   "cell_type": "markdown",
   "metadata": {},
   "source": [
    "[a faire + translate in english]\n",
    "I - Question de cours: \n",
    "\n",
    "1. Definitions:\n",
    "\n",
    "moyenne:\n",
    "ecart type\n",
    "variance\n",
    "\n",
    "2. Definitions:\n",
    "\n",
    "coefficient de correlation entre 2 variables: ....\n",
    "\"Cette grandeur permet de....\"\n"
   ]
  },
  {
   "cell_type": "code",
   "execution_count": 50,
   "metadata": {},
   "outputs": [
    {
     "data": {
      "text/plain": [
       "count    150.000000\n",
       "mean       9.993313\n",
       "std        2.529751\n",
       "min        3.877500\n",
       "25%        8.226375\n",
       "50%        9.895400\n",
       "75%       11.658425\n",
       "max       15.931600\n",
       "Name: Ech1, dtype: float64"
      ]
     },
     "execution_count": 50,
     "metadata": {},
     "output_type": "execute_result"
    }
   ],
   "source": [
    "#Exercise 1: question 1\n",
    "\n",
    "#first step: load the dataset\n",
    "import pandas as pd\n",
    "dataset = pd.read_csv(\"Attachments session no1/Exercice1.csv\")\n",
    "dataset.head()\n",
    "\n",
    "#get the following values: min/max/mean/median for Ech1\n",
    "minValEch1 = dataset.Ech1.min()\n",
    "maxValEch1 = dataset.Ech1.max()\n",
    "meanValEch1 = dataset.Ech1.mean()\n",
    "medianValEch1 = dataset.Ech1.median()\n",
    "#other way of doing this:\n",
    "dataset.Ech1.describe()\n"
   ]
  },
  {
   "cell_type": "code",
   "execution_count": 51,
   "metadata": {},
   "outputs": [
    {
     "data": {
      "text/plain": [
       "count    150.000000\n",
       "mean       9.893769\n",
       "std        2.587627\n",
       "min        1.000000\n",
       "25%        8.199450\n",
       "50%        9.850950\n",
       "75%       11.595025\n",
       "max       15.531400\n",
       "Name: Ech1, dtype: float64"
      ]
     },
     "execution_count": 51,
     "metadata": {},
     "output_type": "execute_result"
    }
   ],
   "source": [
    "#Exercise 1: question 1 (extra...)\n",
    "\n",
    "#first step: duplicate Ech1 in a new series\n",
    "_Ech1 = pd.Series(dataset.Ech1)\n",
    "\n",
    "#modify the biggest value of this copy\n",
    "_Ech1[_Ech1 == _Ech1.max()] = 1\n",
    "#Then recalculate mean/median and other previously calculated values\n",
    "_Ech1.describe()\n",
    "#observations?\n",
    "#Those values haven't really changed... \n"
   ]
  },
  {
   "cell_type": "code",
   "execution_count": 52,
   "metadata": {},
   "outputs": [
    {
     "data": {
      "text/plain": [
       "<AxesSubplot:>"
      ]
     },
     "execution_count": 52,
     "metadata": {},
     "output_type": "execute_result"
    },
    {
     "data": {
      "image/png": "[encoded data removed]",
      "text/plain": [
       "<Figure size 432x288 with 1 Axes>"
      ]
     },
     "metadata": {
      "needs_background": "light"
     },
     "output_type": "display_data"
    }
   ],
   "source": [
    "#Exercise 1: question 2\n",
    "\n",
    "#Draw the whisker plot for Ech1\n",
    "dataset.Ech1.plot.box()\n",
    "\n",
    "#to answer the question:\n",
    "# The whiskers are the min and max values of the dataset\n",
    "# the quartiles are represented by the lines of the box between the whiskers...\n",
    "# their values were given above, in the previous question by using the .describe method"
   ]
  },
  {
   "cell_type": "code",
   "execution_count": 53,
   "metadata": {},
   "outputs": [
    {
     "data": {
      "image/png": "[encoded data removed]",
      "text/plain": [
       "<Figure size 432x288 with 1 Axes>"
      ]
     },
     "metadata": {
      "needs_background": "light"
     },
     "output_type": "display_data"
    }
   ],
   "source": [
    "#Exercise 1: question 3:\n",
    "\n",
    "#Histogram of Ech1\n",
    "from matplotlib import pyplot as plt\n",
    "plt.hist(dataset.Ech1)\n",
    "plt.xlabel('Ech1 values')\n",
    "plt.ylabel('frequency')\n",
    "plt.show()\n",
    "\n",
    "#It looks a liiittleeee bit like a normal distribution\n"
   ]
  },
  {
   "cell_type": "code",
   "execution_count": 55,
   "metadata": {},
   "outputs": [
    {
     "data": {
      "text/html": [
       "<div>\n",
       "<style scoped>\n",
       "    .dataframe tbody tr th:only-of-type {\n",
       "        vertical-align: middle;\n",
       "    }\n",
       "\n",
       "    .dataframe tbody tr th {\n",
       "        vertical-align: top;\n",
       "    }\n",
       "\n",
       "    .dataframe thead th {\n",
       "        text-align: right;\n",
       "    }\n",
       "</style>\n",
       "<table border=\"1\" class=\"dataframe\">\n",
       "  <thead>\n",
       "    <tr style=\"text-align: right;\">\n",
       "      <th></th>\n",
       "      <th>1</th>\n",
       "      <th>2</th>\n",
       "      <th>3</th>\n",
       "      <th>4</th>\n",
       "      <th>5</th>\n",
       "      <th>6</th>\n",
       "      <th>7</th>\n",
       "      <th>8</th>\n",
       "      <th>9</th>\n",
       "      <th>10</th>\n",
       "      <th>11</th>\n",
       "    </tr>\n",
       "  </thead>\n",
       "  <tbody>\n",
       "    <tr>\n",
       "      <th>count</th>\n",
       "      <td>2.000000</td>\n",
       "      <td>2.000000</td>\n",
       "      <td>2.000000</td>\n",
       "      <td>2.000000</td>\n",
       "      <td>2.000000</td>\n",
       "      <td>2.000000</td>\n",
       "      <td>2.000000</td>\n",
       "      <td>2.000000</td>\n",
       "      <td>2.000000</td>\n",
       "      <td>2.000000</td>\n",
       "      <td>2.000000</td>\n",
       "    </tr>\n",
       "    <tr>\n",
       "      <th>mean</th>\n",
       "      <td>41.375000</td>\n",
       "      <td>32.335000</td>\n",
       "      <td>45.910000</td>\n",
       "      <td>31.300000</td>\n",
       "      <td>35.375000</td>\n",
       "      <td>39.900000</td>\n",
       "      <td>34.860000</td>\n",
       "      <td>28.800000</td>\n",
       "      <td>48.450000</td>\n",
       "      <td>42.900000</td>\n",
       "      <td>30.825000</td>\n",
       "    </tr>\n",
       "    <tr>\n",
       "      <th>std</th>\n",
       "      <td>56.038212</td>\n",
       "      <td>43.366859</td>\n",
       "      <td>62.352676</td>\n",
       "      <td>42.002143</td>\n",
       "      <td>47.552931</td>\n",
       "      <td>53.881537</td>\n",
       "      <td>46.867037</td>\n",
       "      <td>38.466609</td>\n",
       "      <td>65.831641</td>\n",
       "      <td>58.124177</td>\n",
       "      <td>41.259681</td>\n",
       "    </tr>\n",
       "    <tr>\n",
       "      <th>min</th>\n",
       "      <td>1.750000</td>\n",
       "      <td>1.670000</td>\n",
       "      <td>1.820000</td>\n",
       "      <td>1.600000</td>\n",
       "      <td>1.750000</td>\n",
       "      <td>1.800000</td>\n",
       "      <td>1.720000</td>\n",
       "      <td>1.600000</td>\n",
       "      <td>1.900000</td>\n",
       "      <td>1.800000</td>\n",
       "      <td>1.650000</td>\n",
       "    </tr>\n",
       "    <tr>\n",
       "      <th>25%</th>\n",
       "      <td>21.562500</td>\n",
       "      <td>17.002500</td>\n",
       "      <td>23.865000</td>\n",
       "      <td>16.450000</td>\n",
       "      <td>18.562500</td>\n",
       "      <td>20.850000</td>\n",
       "      <td>18.290000</td>\n",
       "      <td>15.200000</td>\n",
       "      <td>25.175000</td>\n",
       "      <td>22.350000</td>\n",
       "      <td>16.237500</td>\n",
       "    </tr>\n",
       "    <tr>\n",
       "      <th>50%</th>\n",
       "      <td>41.375000</td>\n",
       "      <td>32.335000</td>\n",
       "      <td>45.910000</td>\n",
       "      <td>31.300000</td>\n",
       "      <td>35.375000</td>\n",
       "      <td>39.900000</td>\n",
       "      <td>34.860000</td>\n",
       "      <td>28.800000</td>\n",
       "      <td>48.450000</td>\n",
       "      <td>42.900000</td>\n",
       "      <td>30.825000</td>\n",
       "    </tr>\n",
       "    <tr>\n",
       "      <th>75%</th>\n",
       "      <td>61.187500</td>\n",
       "      <td>47.667500</td>\n",
       "      <td>67.955000</td>\n",
       "      <td>46.150000</td>\n",
       "      <td>52.187500</td>\n",
       "      <td>58.950000</td>\n",
       "      <td>51.430000</td>\n",
       "      <td>42.400000</td>\n",
       "      <td>71.725000</td>\n",
       "      <td>63.450000</td>\n",
       "      <td>45.412500</td>\n",
       "    </tr>\n",
       "    <tr>\n",
       "      <th>max</th>\n",
       "      <td>81.000000</td>\n",
       "      <td>63.000000</td>\n",
       "      <td>90.000000</td>\n",
       "      <td>61.000000</td>\n",
       "      <td>69.000000</td>\n",
       "      <td>78.000000</td>\n",
       "      <td>68.000000</td>\n",
       "      <td>56.000000</td>\n",
       "      <td>95.000000</td>\n",
       "      <td>84.000000</td>\n",
       "      <td>60.000000</td>\n",
       "    </tr>\n",
       "  </tbody>\n",
       "</table>\n",
       "</div>"
      ],
      "text/plain": [
       "               1          2          3          4          5          6  \\\n",
       "count   2.000000   2.000000   2.000000   2.000000   2.000000   2.000000   \n",
       "mean   41.375000  32.335000  45.910000  31.300000  35.375000  39.900000   \n",
       "std    56.038212  43.366859  62.352676  42.002143  47.552931  53.881537   \n",
       "min     1.750000   1.670000   1.820000   1.600000   1.750000   1.800000   \n",
       "25%    21.562500  17.002500  23.865000  16.450000  18.562500  20.850000   \n",
       "50%    41.375000  32.335000  45.910000  31.300000  35.375000  39.900000   \n",
       "75%    61.187500  47.667500  67.955000  46.150000  52.187500  58.950000   \n",
       "max    81.000000  63.000000  90.000000  61.000000  69.000000  78.000000   \n",
       "\n",
       "               7          8          9         10         11  \n",
       "count   2.000000   2.000000   2.000000   2.000000   2.000000  \n",
       "mean   34.860000  28.800000  48.450000  42.900000  30.825000  \n",
       "std    46.867037  38.466609  65.831641  58.124177  41.259681  \n",
       "min     1.720000   1.600000   1.900000   1.800000   1.650000  \n",
       "25%    18.290000  15.200000  25.175000  22.350000  16.237500  \n",
       "50%    34.860000  28.800000  48.450000  42.900000  30.825000  \n",
       "75%    51.430000  42.400000  71.725000  63.450000  45.412500  \n",
       "max    68.000000  56.000000  95.000000  84.000000  60.000000  "
      ]
     },
     "execution_count": 55,
     "metadata": {},
     "output_type": "execute_result"
    }
   ],
   "source": [
    "#Exercise 2: question 1\n",
    "\n",
    "#first step: load the dataset\n",
    "dataset_2 = pd.read_csv(\"Attachments session no1/Exercice2.csv\")\n",
    "\n",
    "#Then give the correlation coefficient... (I'll get to that part later...)"
   ]
  }
 ],
 "metadata": {
  "kernelspec": {
   "display_name": "Python 3",
   "language": "python",
   "name": "python3"
  },
  "language_info": {
   "codemirror_mode": {
    "name": "ipython",
    "version": 3
   },
   "file_extension": ".py",
   "mimetype": "text/x-python",
   "name": "python",
   "nbconvert_exporter": "python",
   "pygments_lexer": "ipython3",
   "version": "3.8.5"
  }
 },
 "nbformat": 4,
 "nbformat_minor": 4
}
