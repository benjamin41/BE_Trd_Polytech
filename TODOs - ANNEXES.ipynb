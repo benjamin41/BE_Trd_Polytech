{
 "cells": [
  {
   "cell_type": "markdown",
   "metadata": {},
   "source": [
    "# SESSION 3:"
   ]
  },
  {
   "cell_type": "code",
   "execution_count": 2,
   "metadata": {},
   "outputs": [],
   "source": [
    "\n",
    "# TO DO:\n",
    "# hey one day, try to take a look at this video tho: https://www.youtube.com/watch?v=f7gfCutYXbU\n",
    "    # the beginning is great... it explains a lot of stuffs you hadn't understood...\n",
    "    # and it's prolly gonna help with the hypothesis testing intro exercises in \"Cours_utile-pour_session_3_pt2.pdf\"\n",
    "# nice example from the following site: https://www.analyticsvidhya.com/blog/2015/09/hypothesis-testing-explained/#:~:text=Blood%20glucose%20levels%20for%20obese,mean%20glucose%20level%20of%20108.\n",
    "    # it has a dataset and some kind of tutorial you can play with to understand the cental limit theorem and its implications....\n",
    "    # I want you to write down base formulas (between the relation of population/sample mean and variance)\n",
    "# You need to figure out how to use the different formulas in the fiche synthese for this hypothesis testing course (\"cours_utile_pour_session_3_synthese.pdf\").\n",
    "    # some parts like: \"test de comparaison de deux proportions\" are still a little foggy to me...\n",
    "    # the exercises at the end of \"Cours_utile-pour_session_3_pt2.pdf\" might really help practicing all that ish... (but you might need some course to guide you: https://www.youtube.com/watch?v=f7gfCutYXbU)\n",
    "    # this might help doing that: https://www.imo.universite-paris-saclay.fr/~pansu/web_ifips/Tests.pdf\n",
    "# Finish what's above with the calculus of the probability of a sample to have a weight over....\n",
    "# Maybe add an example from the YT 8 hrs stat course to make sure you understood the notion...\n",
    "# Figure out how to scale the figure window, so that the curve of the normal distribution appears nice and clear...\n",
    "# If you can, find a way to colour the areas under a curve... (really not meandatory here...)"
   ]
  },
  {
   "cell_type": "code",
   "execution_count": null,
   "metadata": {},
   "outputs": [],
   "source": [
    "# ANNEXES:\n",
    "#That site (useful extra exercises for both central limit theorem and hypothesis tests): https://www.analyticsvidhya.com/blog/2015/09/hypothesis-testing-explained/#:~:text=Blood%20glucose%20levels%20for%20obese,mean%20glucose%20level%20of%20108.\n",
    "#In case you ever need to do some advanced toying with array or series indexes in a for loop... just use what's below..:\n",
    "#-----------------------------------------------------------------------------------------------------------------------\n",
    "# Source: https://stackoverflow.com/questions/522563/accessing-the-index-in-for-loops\n",
    "# Using an additional state variable, such as an index variable (which you would normally use in languages such as C or PHP), is considered non-pythonic.\n",
    "\n",
    "# The better option is to use the built-in function enumerate(), available in both Python 2 and 3:\n",
    "\n",
    "# for idx, val in enumerate(ints):\n",
    "#     print(idx, val)\n",
    "#-----------------------------------------------------------------------------------------------------------------------\n",
    "# Source2: https://stackoverflow.com/questions/38387529/how-to-iterate-over-pandas-series-generated-from-groupby-size\n",
    "# Given a pandas Series:\n",
    "\n",
    "# s = pd.Series([1,2,3,4], index=['a', 'b', 'c', 'd'])\n",
    "\n",
    "# s\n",
    "#a    1\n",
    "#b    2\n",
    "#c    3\n",
    "#d    4\n",
    "#dtype: int64\n",
    "# You can directly loop through it, which yield one value from the series in each iteration:\n",
    "\n",
    "# for i in s:\n",
    "#     print(i)\n",
    "# 1\n",
    "# 2\n",
    "# 3\n",
    "# 4\n",
    "# If you want to access the index at the same time, you can use either items or iteritems method, which produces a generator that contains both the index and value:\n",
    "\n",
    "# for i, v in s.items():\n",
    "#     print('index: ', i, 'value: ', v)\n",
    "# #index:  a value:  1\n",
    "# #index:  b value:  2\n",
    "# #index:  c value:  3\n",
    "# #index:  d value:  4\n",
    "\n",
    "# for i, v in s.iteritems():\n",
    "#     print('index: ', i, 'value: ', v)\n",
    "# #index:  a value:  1\n",
    "# #index:  b value:  2\n",
    "# #index:  c value:  3\n",
    "# #index:  d value:  4\n"
   ]
  },
  {
   "cell_type": "markdown",
   "metadata": {},
   "source": [
    "# SESSION 4:"
   ]
  },
  {
   "cell_type": "code",
   "execution_count": null,
   "metadata": {},
   "outputs": [],
   "source": [
    "# [TO DO ]\n",
    "# Seems like you think that you're getting good on this specific topic... do you think you can tackle the exercises from Guyader's course? (no correction for those ones, only you vs the assignment lol...)\n",
    "    # If I'm not mistaken, there are 3 exercises...\n",
    "# You need to figure out how to use the different formulas in the fiche synthese for this hypothesis testing course (\"cours_utile_pour_session_4_pt2.pdf\").\n",
    "    # some parts like: \"test de comparaison de deux proportions\" are still a little foggy to me...\n",
    "    # this might help doing that: https://www.imo.universite-paris-saclay.fr/~pansu/web_ifips/Tests.pdf\n",
    "# end up with a conclusion that says shits like, now we just need to make sure that samples are not biaised and represent well the population\n",
    "# you gotta add little drawing to make this thing more understandable with the critical region and stuff...\n",
    "# I think your definition of pvalues might be wrong mate... check the link below tho...\n",
    "# (For a perfect justfication of everything) maybe try to add something about the theoreme of cenral limit... it's done here: https://www.analyticsvidhya.com/blog/2015/09/hypothesis-testing-explained/#:~:text=Blood%20glucose%20levels%20for%20obese,mean%20glucose%20level%20of%20108.\n",
    "# Maybe add a little parenthesis about how to state the null hypothess\n",
    "# do the Z score calculus for method 1 of \"draw that line\"\n",
    "# talk about the t vales/ tscores if you can... (and if it's appropriate for this chapter...)\n",
    "# hey one day, try to take a look at this video tho: https://www.youtube.com/watch?v=f7gfCutYXbU\n",
    "    # the beginning is great... it explains a lot of stuffs you hadn't understood...\n"
   ]
  },
  {
   "cell_type": "code",
   "execution_count": null,
   "metadata": {},
   "outputs": [],
   "source": [
    "# [Annexes]\n",
    "# Here are other ressources you can use to practice a little more hypothesis testing (both directional and non directional)\n",
    "#     - that site (useful for both central limit theorem and hypothesis tests): https://www.analyticsvidhya.com/blog/2015/09/hypothesis-testing-explained/#:~:text=Blood%20glucose%20levels%20for%20obese,mean%20glucose%20level%20of%20108.\n",
    "#     - [VERY USEFUL]Hypothesis testing in 1 pic: https://www.datasciencecentral.com/profiles/blogs/hypothesis-tests-in-one-picture\n",
    "#     - [VERY USEFUL]Hypothesis testing basics: https://www.statisticshowto.com/probability-and-statistics/hypothesis-testing/"
   ]
  },
  {
   "cell_type": "markdown",
   "metadata": {},
   "source": [
    "# EVERY SESSION:"
   ]
  },
  {
   "cell_type": "code",
   "execution_count": 2,
   "metadata": {},
   "outputs": [],
   "source": [
    "# [TO DO]\n",
    "# this ressource looks like some student's blog for stats using python: http://pytolearn.csd.auth.gr/contents.html#gototop\n",
    "    # you'll classify your hypothesis testing stuff the same way he does...\n",
    "# A very nice course on yt you might wanna take a look at at some points...: https://www.youtube.com/user/BCFoltz\n",
    "    # I've also put it below in the annex section, cause I couldn't really make my mind lol\n",
    "\n",
    "# Another pretty nice course on the internet...: https://www.youtube.com/user/mathAgrocampus\n",
    "    # It's a course made in Popo, a french tough course lol, check all the stuff in there, it could be really instructive...lol?\n",
    "\n",
    "# other exercises from khan academy that are not Z, T, F or any other label... just do them, and guess what \"type\" of test they are.. you can put them in the summary notebook\n",
    "    # (Exo sur les rats lol): https://www.youtube.com/watch?v=7LbhiLVATio\n",
    "    # Petit exo bien sympa (Max et ses freres et soeurs): https://www.youtube.com/watch?v=YrHMvwJ_p88\n",
    "    # Exo interval de confiance (Pommes): https://www.youtube.com/watch?v=x76eYuSYr6U\n",
    "    # Interval de confiance (Student): https://www.youtube.com/watch?v=i5DmLO1wVqQ\n",
    "    # Idem: Interval de confiance (Student): https://www.youtube.com/watch?v=fr1C-MhtUUs\n",
    "    # Interval de confiance (Ordinateurs;Region;Enseignants): https://www.youtube.com/watch?v=6NDJUA17ccA\n",
    "\n",
    "# PCA for the future... this seems like the tough bit lol, so I want you to take your time and respect the following order:\n",
    "    # 1: \"bite size pieces\" explanation (hooray!! lol): https://www.youtube.com/watch?v=FgakZw6K1QQ (maybe check out his other courses tho...)\n",
    "    # 2: a french stuff, rapid explanation..: https://www.youtube.com/watch?v=2UFiMvXvdZ4\n",
    "    # 3: maybe an exercise you can copy for your portfolio lol (but do that smart tho... maybe on guyader stuffs...) : https://setosa.io/ev/principal-component-analysis/\n",
    "    # 3: a french stuff, much more boring...: https://www.youtube.com/watch?v=8qw0bNfK4H0\n",
    "    # 4: Khan academy: looks hardcore lol: https://www.youtube.com/watch?app=desktop&v=zntNi3-ybfQ&list=PLbPhAbAhvjUzeLkPVnv0kc3_9rAfXpGtS&index=5&t=0s\n",
    "    # 5: Khan eighen values...: https://www.khanacademy.org/math/linear-algebra/alternate-bases/eigen-everything/v/linear-algebra-introduction-to-eigenvalues-and-eigenvectors\n",
    "    # 6: medium type of ish...: https://towardsdatascience.com/the-most-gentle-introduction-to-principal-component-analysis-9ffae371e93b\n",
    "    # 7: French hardcore vecteur intro: https://www.youtube.com/watch?v=nQ2XjtEA0fk\n",
    "    \n",
    "    \n",
    "    "
   ]
  },
  {
   "cell_type": "code",
   "execution_count": 1,
   "metadata": {},
   "outputs": [],
   "source": [
    "# [Annexes]\n",
    "# the nice student blog I mention in the todo section above... I really want you to not loose it lol...: http://pytolearn.csd.auth.gr/d1-hyptest/11/f-distro.html\n",
    "\n",
    "# A very nice course on yt you might wanna take a look at at some points...: https://www.youtube.com/user/BCFoltz\n",
    "\n",
    "# Another pretty nice course on the internet...: https://www.youtube.com/user/mathAgrocampus\n",
    "    # It's a course made in Popo, a french tough course lol, check all the stuff in there, it could be really instructive...lol?\n",
    "    \n",
    "# this ressource looks like some student's blog for stats using python: http://pytolearn.csd.auth.gr/contents.html#gototop\n",
    "    # you'll classify your hypothesis testing stuff the same way he does..."
   ]
  }
 ],
 "metadata": {
  "kernelspec": {
   "display_name": "Python 3",
   "language": "python",
   "name": "python3"
  },
  "language_info": {
   "codemirror_mode": {
    "name": "ipython",
    "version": 3
   },
   "file_extension": ".py",
   "mimetype": "text/x-python",
   "name": "python",
   "nbconvert_exporter": "python",
   "pygments_lexer": "ipython3",
   "version": "3.8.5"
  }
 },
 "nbformat": 4,
 "nbformat_minor": 4
}
