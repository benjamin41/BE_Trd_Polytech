{
 "cells": [
  {
   "cell_type": "code",
   "execution_count": 1,
   "metadata": {},
   "outputs": [],
   "source": [
    "import pandas as pd\n",
    "import numpy as np\n",
    "import seaborn as sns\n",
    "import scipy.stats as stats\n",
    "import math\n",
    "from matplotlib import pyplot as plt\n",
    "#To calculate area below the normal distribution and calculate probabilities\n",
    "from numpy import trapz \n",
    "from scipy.integrate import simps\n"
   ]
  },
  {
   "cell_type": "code",
   "execution_count": null,
   "metadata": {},
   "outputs": [],
   "source": [
    "# Dsl, je vais pas trop me fouler pour ca lol, khan academy est vraiment pas mal, donc on part la dessus...\n",
    "    # le cours p1: https://www.youtube.com/watch?v=Y9efPQpJFY0\n",
    "\n",
    "    # Actual exercises: \n",
    "        # le cours p2: https://www.youtube.com/watch?v=cVpo6yuesuw&t=4s\n",
    "        # le cours p3: https://www.youtube.com/watch?v=2ilx8q2Epr4\n",
    "        # https://www.youtube.com/watch?v=UHdfGQEj2-Y\n",
    "        # https://www.youtube.com/watch?v=2ilx8q2Epr4\n",
    "        # https://www.youtube.com/watch?v=cVpo6yuesuw\n",
    "    # as always, whenever you're ready, you move on to Mme Guyader's exercises..."
   ]
  },
  {
   "cell_type": "code",
   "execution_count": 2,
   "metadata": {},
   "outputs": [
    {
     "data": {
      "text/plain": [
       "11.441666666666666"
      ]
     },
     "execution_count": 2,
     "metadata": {},
     "output_type": "execute_result"
    }
   ],
   "source": [
    "# Ok I've watch the course, it was kinda trash... anyways, I'm moving on to the next item on the list: this course/exercise kinda thing: # le cours p2: https://www.youtube.com/watch?v=cVpo6yuesuw&t=4s\n",
    "# In this first exercise: we're doing a test d'adequation\n",
    "\n",
    "# The assignment is to study the people who go in a given restaurant... Just watch the video to get more details...\n",
    "\n",
    "# est ce que les variations de l'observations par rapport aux valeurs theoriques sont dues (ou non) au caractere variable de la mesure/ a la variabilite de la mesure? this is what we're always tryna prove\n",
    "# et donc ca implique que cette variation ne depasse pas un certain seuil: \"seuil de tolerance?\"/\"interval de confiance?\"\n",
    "    # en effet, au dela d'un certain niveau de difference de la realite par rapport a la theorie, on ne peut plus expliquer l'ecart entre observation et therorie uniquement par le caractere variable de notre mesure...\n",
    "    \n",
    "# donc ici, comme a chaque fois, l'idee va etre de determiner une statistique pour notre jeu de donnees a partir de la loi suivie par notre mesure. de calculer la valeur de cette stat et de voir dans quelle region de la distribution de cette loi se situe la stat que l'on vient de calculer...\n",
    "# Comme d'hab, suivant alpha (et parfois suivant d'autres trucs), on va voir si cette stat se trouve dans la zone critique de la distribution de la loi suivi par notre mesure\n",
    "\n",
    "# donc dans cet example, on a le dataset suivant: \n",
    "\n",
    "df = pd.DataFrame({\"Theorique (%)\":[10,10,15,20,30,15], \"Observes\":[30,14,34,45,57,20], \"Theoriques values\": [20,20,30,40,60,30]})\n",
    "df\n",
    "\n",
    "# On va calculer la statisque chi2 de ce jeu de donnes. Elle est donnee par la formule suivante ici:\n",
    "# chi_2 = sum(np.square(x_obs - x_th)/(x_th)) on va coder ca via une petite fonction\n",
    "\n",
    "def calculateChiSquare(series_obs, series_th, length):\n",
    "    chi_square = 0\n",
    "    for i in range(length):\n",
    "        chi_square = (np.square(series_obs[i]-series_th[i]))/(series_th[i]) + chi_square\n",
    "    return chi_square\n",
    "                \n",
    "chi_square = calculateChiSquare(df.Observes, df[\"Theoriques values\"], len(df.Observes))\n",
    "chi_square\n",
    "\n",
    "\n",
    "# Now that we have this little value and the seuil de signification, we're basically just going to do the same way we'd do for the previous exercises:\n",
    "# check in a table that the value we're having in this situation is beyond the critical area\n",
    "# [TO BE DONE] \n",
    "    # Maybe try to plot the curve\n",
    "    # Try to describe how to read the table... (around 11:00 in the video)\n",
    "        # aborde brievement la notion de degre de liberte\n",
    "\n",
    "# Comme d'hab on rejete H_0 l'hypothese de depart... anyways je te laisse recontextualiser en debut d'exo\n"
   ]
  },
  {
   "cell_type": "code",
   "execution_count": 3,
   "metadata": {},
   "outputs": [],
   "source": [
    "# [J'ai pas trop kiffe cet exemple...]\n",
    "# Ok, moving on to a second exercise: https://www.youtube.com/watch?v=2ilx8q2Epr4\n",
    "# in this one we're doing a test on a tableau de contigence...\n",
    "# it's basically the same thing as the tea exercise from the other website... \n",
    "    # on the top line the people still sick after receiving the treatment\n",
    "    # on the bottom line you have all the people that got cured by those treatments..    \n",
    "\n",
    "# The assignement is about knowing if a plant has an effect on a disease... just watch the video to get more details\n",
    "\n",
    "# Comme d'hab au moment d'emettre les hypothese, on va partir du principe que H_0 est vrai et ensuite, comme d'hab encore une fois, l'idee ce de voir si (dans ce contexte de H_0 etant vrai) il est possible/s'il est vraisembable d'obtenir les valeurs que l'on a obtenu dans l'enonce...\n",
    "# Comme d'hab encore une fois, on definit un seuil a partir duquel on decidera ou non de rejeter H_0\n",
    "\n",
    "\n",
    "\n",
    "\n"
   ]
  },
  {
   "cell_type": "code",
   "execution_count": null,
   "metadata": {},
   "outputs": [],
   "source": [
    "# https://www.youtube.com/watch?v=UHdfGQEj2-Y"
   ]
  }
 ],
 "metadata": {
  "kernelspec": {
   "display_name": "Python 3",
   "language": "python",
   "name": "python3"
  },
  "language_info": {
   "codemirror_mode": {
    "name": "ipython",
    "version": 3
   },
   "file_extension": ".py",
   "mimetype": "text/x-python",
   "name": "python",
   "nbconvert_exporter": "python",
   "pygments_lexer": "ipython3",
   "version": "3.8.5"
  }
 },
 "nbformat": 4,
 "nbformat_minor": 4
}
