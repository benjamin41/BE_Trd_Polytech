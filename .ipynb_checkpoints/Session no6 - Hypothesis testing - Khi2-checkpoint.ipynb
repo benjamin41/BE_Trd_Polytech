{
 "cells": [
  {
   "cell_type": "code",
   "execution_count": 4,
   "metadata": {},
   "outputs": [],
   "source": [
    "import pandas as pd\n",
    "import numpy as np\n",
    "import seaborn as sns\n",
    "import scipy.stats as stats\n",
    "import math\n",
    "from matplotlib import pyplot as plt\n",
    "#To calculate area below the normal distribution and calculate probabilities\n",
    "from numpy import trapz \n",
    "from scipy.integrate import simps\n"
   ]
  },
  {
   "cell_type": "code",
   "execution_count": null,
   "metadata": {},
   "outputs": [],
   "source": [
    "# Nouvel exercise (https://www.youtube.com/watch?v=JK4cbREvtqI): Juste un ptit rappel avant de commencer: \n",
    "    # le test de khi 2 cherche a montrer l'existence d'un lien entre 2 variables.\n",
    "    # l'hypothese nulle est de dire qu'il n'existe pas de lien entre les variables, h_1, l'hypothese alternative est dire qu'il y a bien un lien entre les 2 variables\n",
    "    # Puis on set le seuil de signification du test\n",
    "    # puis on fait un tableau de contingence afin de definir effectif theoriques de s'il n'y avait pas de lien entre les variables...\n",
    "    # Avant d'effectuer le calcul de la statistique T associe a ce type de test, on va juste s'assurer que l'on se trouve bien dans les conditions d'application de ce test:\n",
    "        # 1ere condition: n>30\n",
    "        # 2eme condition: les effectifs theoriques doivent avoir une taille superieur ou egale a 5 (si la condition n'est pas respectee, il faut soit augmenter la taille de l'echantillon soit regrouper des categories entre elles...)\n",
    "    # puis on calcul les statistiques du test pour voir si les effectifs de l'echantillon sont plausible/ou bien si les effectifs de l'echantillon sont trop eloignes des effectifs theoriques (a un point tel que la difference par rapport a la theorie ne peut plus s'expliquer par le caractere variable des mesures...)\n",
    "        # encore une fois, l'idee est vraiment de comparer les effectifs observes dans l'echantillon aux effectifs theoriques que l'on aurait s'il n'y avait pas de lien entre les variables\n",
    "        # une legere difference entre ces 2 effectifs est tout a fait imputable au hasard, mais une trop grande difference (on se base sur alpha pour definir trop) implique que les ecarts par rapport a la distribution theorique ne peuvent s'expliquer uniquement par le caractere variable de la mesure/ le hasard, et donc qu'il y a bien un lien entre les variables\n",
    "    # en plus de la statistique T, on va egalement avoir besoin d'une donnee que l'on appelle le degre de liberte...\n",
    "    \n",
    "# Donc pour l'enonce suivant: https://www.youtube.com/watch?v=JK4cbREvtqI\n",
    "    # a mettre au propre stp...\n",
    "    # on arrive a la conclusion que l'on ne peut pas rejeter H_0\n",
    "    # Et ptet juste essaie de tracer la courbe de la loi stp juste histoire de rendre tout ca bien clean stp...\n",
    "    "
   ]
  },
  {
   "cell_type": "code",
   "execution_count": 5,
   "metadata": {},
   "outputs": [
    {
     "data": {
      "text/plain": [
       "11.441666666666666"
      ]
     },
     "execution_count": 5,
     "metadata": {},
     "output_type": "execute_result"
    }
   ],
   "source": [
    "# [ci dessous a remettre au propre avec des explications niquelles comme ci dessus stp...]\n",
    "\n",
    "# Ok I've watch the course, it was kinda trash... anyways, I'm moving on to the next item on the list: this course/exercise kinda thing: # le cours p2: https://www.youtube.com/watch?v=cVpo6yuesuw&t=4s\n",
    "# In this first exercise: we're doing a test d'adequation\n",
    "\n",
    "# The assignment is to study the people who go in a given restaurant... Just watch the video to get more details...\n",
    "\n",
    "# est ce que les variations de l'observations par rapport aux valeurs theoriques sont dues (ou non) au caractere variable de la mesure/ a la variabilite de la mesure? this is what we're always tryna prove\n",
    "# et donc ca implique que cette variation ne depasse pas un certain seuil: \"seuil de tolerance?\"/\"interval de confiance?\"\n",
    "    # en effet, au dela d'un certain niveau de difference de la realite par rapport a la theorie, on ne peut plus expliquer l'ecart entre observation et therorie uniquement par le caractere variable de notre mesure...\n",
    "    \n",
    "# donc ici, comme a chaque fois, l'idee va etre de determiner une statistique pour notre jeu de donnees a partir de la loi suivie par notre mesure. de calculer la valeur de cette stat et de voir dans quelle region de la distribution de cette loi se situe la stat que l'on vient de calculer...\n",
    "# Comme d'hab, suivant alpha (et parfois suivant d'autres trucs), on va voir si cette stat se trouve dans la zone critique de la distribution de la loi suivi par notre mesure\n",
    "\n",
    "# donc dans cet example, on a le dataset suivant: \n",
    "\n",
    "df = pd.DataFrame({\"Theorique (%)\":[10,10,15,20,30,15], \"Observes\":[30,14,34,45,57,20], \"Theoriques values\": [20,20,30,40,60,30]})\n",
    "df\n",
    "\n",
    "# On va calculer la statisque chi2 de ce jeu de donnes. Elle est donnee par la formule suivante ici:\n",
    "# chi_2 = sum(np.square(x_obs - x_th)/(x_th)) on va coder ca via une petite fonction\n",
    "\n",
    "def calculateChiSquare(series_obs, series_th, length):\n",
    "    chi_square = 0\n",
    "    for i in range(length):\n",
    "        chi_square = (np.square(series_obs[i]-series_th[i]))/(series_th[i]) + chi_square\n",
    "    return chi_square\n",
    "                \n",
    "chi_square = calculateChiSquare(df.Observes, df[\"Theoriques values\"], len(df.Observes))\n",
    "chi_square\n",
    "\n",
    "\n",
    "# Now that we have this little value and the seuil de signification, we're basically just going to do the same way we'd do for the previous exercises:\n",
    "# check in a table that the value we're having in this situation is beyond the critical area\n",
    "# [TO BE DONE] \n",
    "    # Maybe try to plot the curve\n",
    "    # Try to describe how to read the table... (around 11:00 in the video)\n",
    "        # aborde brievement la notion de degre de liberte\n",
    "\n",
    "# Comme d'hab on rejete H_0 l'hypothese de depart... anyways je te laisse recontextualiser en debut d'exo\n"
   ]
  },
  {
   "cell_type": "code",
   "execution_count": null,
   "metadata": {},
   "outputs": [],
   "source": [
    "# [J'ai pas trop kiffe cet exercise...][ouais... t'avais surtout pas compris lol... donc tu vas juste me le refaire cet exo mon pote...]\n",
    "# Ok, moving on to a second exercise: https://www.youtube.com/watch?v=2ilx8q2Epr4\n",
    "# in this one we're doing a test on a tableau de contigence...\n",
    "# it's basically the same thing as the tea exercise from the other website... \n",
    "    # on the top line the people still sick after receiving the treatment\n",
    "    # on the bottom line you have all the people that got cured by those treatments..    \n",
    "\n",
    "# The assignement is about knowing if a plant has an effect on a disease... just watch the video to get more details\n",
    "\n",
    "# Comme d'hab au moment d'emettre les hypothese, on va partir du principe que H_0 est vrai et ensuite, comme d'hab encore une fois, l'idee ce de voir si (dans ce contexte de H_0 etant vrai) il est possible/s'il est vraisembable d'obtenir les valeurs que l'on a obtenu dans l'enonce...\n",
    "# Comme d'hab encore une fois, on definit un seuil a partir duquel on decidera ou non de rejeter H_0\n",
    "\n",
    "\n",
    "\n",
    "\n"
   ]
  },
  {
   "cell_type": "code",
   "execution_count": 3,
   "metadata": {},
   "outputs": [],
   "source": [
    "# Exos en plus:\n",
    "    # https://www.youtube.com/watch?v=UHdfGQEj2-Y\n",
    "    # https://www.youtube.com/watch?v=3BCPJFYoG6s\n",
    "    # les exos de guyader"
   ]
  }
 ],
 "metadata": {
  "kernelspec": {
   "display_name": "Python 3",
   "language": "python",
   "name": "python3"
  },
  "language_info": {
   "codemirror_mode": {
    "name": "ipython",
    "version": 3
   },
   "file_extension": ".py",
   "mimetype": "text/x-python",
   "name": "python",
   "nbconvert_exporter": "python",
   "pygments_lexer": "ipython3",
   "version": "3.8.5"
  }
 },
 "nbformat": 4,
 "nbformat_minor": 4
}
