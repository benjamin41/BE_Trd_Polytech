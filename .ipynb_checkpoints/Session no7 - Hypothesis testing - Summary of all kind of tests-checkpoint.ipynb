{
 "cells": [
  {
   "cell_type": "code",
   "execution_count": null,
   "metadata": {},
   "outputs": [],
   "source": [
    "# Based on this video (that is a greeeeeat summarized version of what this notion essentially is): https://www.youtube.com/watch?v=I10q6fjPxJ0\n",
    "    # I want you to first summarize what you'll do the same way he does...\n",
    "    # then for each kind of test, find a relevant assignment to do\n",
    "    # just fyi, he goes through one sample test, t test, anova, chi 2, correlation test\n",
    "    # if you feel like you're good by then you'll stop, otherwise, just go with the flow I guess..."
   ]
  }
 ],
 "metadata": {
  "kernelspec": {
   "display_name": "Python 3",
   "language": "python",
   "name": "python3"
  },
  "language_info": {
   "codemirror_mode": {
    "name": "ipython",
    "version": 3
   },
   "file_extension": ".py",
   "mimetype": "text/x-python",
   "name": "python",
   "nbconvert_exporter": "python",
   "pygments_lexer": "ipython3",
   "version": "3.8.5"
  }
 },
 "nbformat": 4,
 "nbformat_minor": 4
}
