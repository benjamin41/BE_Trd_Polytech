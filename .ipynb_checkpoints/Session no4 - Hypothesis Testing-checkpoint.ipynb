{
 "cells": [
  {
   "cell_type": "code",
   "execution_count": 10,
   "metadata": {},
   "outputs": [],
   "source": [
    "import pandas as pd\n",
    "import numpy as np\n",
    "import seaborn as sns\n",
    "import scipy.stats as stats\n",
    "import math\n",
    "from matplotlib import pyplot as plt\n",
    "#To calculate area below the normal distribution and calculate probabilities\n",
    "from numpy import trapz \n",
    "from scipy.integrate import simps\n"
   ]
  },
  {
   "cell_type": "markdown",
   "metadata": {},
   "source": [
    "# Hypothesis Testing Basics: One Sample Z Test (1-tailed/directional test):\n",
    "\n",
    "(Source: [Study.com](https://study.com/academy/answer/a-principal-at-a-certain-school-claims-that-the-students-in-his-school-are-above-average-intelligence-a-random-sample-of-thirty-30-students-iq-scores-have-a-mean-score-of-112-is-there-sufficient-evidence-to-support-the-principal-s-claim.html))\n",
    "\n",
    "\n",
    "We'll use the following typical example to get a grip on the notion of hyposthesis testing...\n",
    "\n",
    "A principal at a certain school claims that the students in his school are above average intelligence. A random sample of thirty (30) students IQ scores have a mean score of 112. Is there sufficient evidence to support the principal's claim?\n",
    "\n",
    "- The mean population IQ is 100 with a standard deviation of 15. Use a 0.05 significance level.\n",
    "- Show all five steps of an appropriate hypothesis test, including finding step 6: the P-value analysis, and re-affirm the results with the help of P-value.\n",
    "- Assume all conditions are satisfied for your chosen hypothesis test.\n",
    "\n",
    "\n"
   ]
  },
  {
   "cell_type": "markdown",
   "metadata": {},
   "source": [
    "## Step One: List the parameters defined in the question\n",
    "\n",
    "- Sample size: n = 30\n",
    "- Population mean: μ = 100\n",
    "- Population std deviation: σ = 15 \n",
    "- Sample mean: x-bar = 112 \n",
    "- We're using a level of significance α = 0.05 in this example (The other mostly used \"α-value\" is α=0.01) "
   ]
  },
  {
   "cell_type": "markdown",
   "metadata": {},
   "source": [
    "## Step Two: Write down the null hypothesis H_0:\n",
    "\n",
    "In this example, H_0 is the fact that, the mean of students IQ is equal to the population mean (100). So, we'd have:\n",
    "- H_0: μ = 100 \n",
    "\n",
    "In this example, the alternate hypothesis is stating that the director is right: his students have an average IQ above the population mean. So we'd have:\n",
    "- H_1: μ > 100\n"
   ]
  },
  {
   "cell_type": "markdown",
   "metadata": {},
   "source": [
    "## Now what?\n",
    "\n",
    "Based on: \n",
    "- The distribution of the population IQ value (that we can draw based on the parameters from step one)\n",
    "- And the level of significance (also from step 1) \n",
    "\n",
    "We'll compare the z-score associated to the sample mean value (Z1) to the z-score associated to α (Z2):\n",
    "- If Z1>Z2: we can reject H_0, and the principal will be right\n",
    "- If Z1<Z2: then we'll reject H_1, and the principal will be wrong..."
   ]
  },
  {
   "cell_type": "code",
   "execution_count": 11,
   "metadata": {},
   "outputs": [
    {
     "data": {
      "image/png": "[encoded data removed]",
      "text/plain": [
       "<Figure size 432x288 with 1 Axes>"
      ]
     },
     "metadata": {
      "needs_background": "light"
     },
     "output_type": "display_data"
    }
   ],
   "source": [
    "# step 1: We can't plot the distribution of the population IQ to visualize better what we're looking for...:\n",
    "# We define parameters\n",
    "mu = 100\n",
    "variance = np.square(15)\n",
    "sigma = math.sqrt(variance)\n",
    "\n",
    "# We'll plot between [mu-5*sigma ; mu+5*sigma]\n",
    "x = np.linspace(mu - 5*sigma, mu + 5*sigma, 100)\n",
    "plt.plot(x, stats.norm.pdf(x, mu, sigma))\n",
    "plt.show()"
   ]
  },
  {
   "cell_type": "markdown",
   "metadata": {},
   "source": [
    "- To describe it in english: alpha, the level of significance, identifies a region of the distribution. In our example, alpha=0.05, means that we'll reject H_0 for the 5% top values of the standardized distribution (95% percentiles)\n",
    "- In other words: The significance level determines how far out from the null hypothesis value we'll draw the line that decides if we reject or not or H_0\n",
    "\n",
    "### To draw that line:\n",
    "\n",
    "- Given the α = 0.05 value, we need to find the Z-score in the standard normal distribution that'll have all the distribution area but 5% of it \n",
    "- In other words, we want Z for \"P(X<Z) = 0.95\". We've seen how to do that in Session 2. The idea is to lookup in the z-score table.\n",
    "- Finally, we'll compare the z-score associated to α = 0.05 (let's call it Z1) to the z-score associated to the sample mean (let's call it Z2)\n",
    "#### if Z2>Z1: the statistics we're analyzing here (sample mean) lies in the critical region and we can reject H_0. If not... you get the idea...\n",
    "\n",
    "\n",
    "- We can also use what's called the p-value. It represents the area beyond the z-scores previously calculated. In this case, given p1 the area associated to the Z1, and p2 the p-value associated to Z2, we can make the following comparison:\n",
    "#### if p1>p2: the statistics we're analyzing here (sample mean) lies in the critical region and we can reject H_0. If not... you get the idea..."
   ]
  },
  {
   "cell_type": "code",
   "execution_count": 14,
   "metadata": {},
   "outputs": [
    {
     "name": "stdout",
     "output_type": "stream",
     "text": [
      "Here's Z2: 4.381780460041329\n",
      "According to the Z-score table, Z1 value is approximately equal to 1.6 \n",
      "Z2>Z1; We can reject H_0\n"
     ]
    }
   ],
   "source": [
    "# step 1: Calculate the Z score of our statistics:\n",
    "def ZscoreCalc(x_bar_val, muPopulation, sigmaPopulation, sampleSize):\n",
    "    Zscore = (x_bar_val - muPopulation)/(sigmaPopulation/np.sqrt(sampleSize))\n",
    "    return Zscore\n",
    "\n",
    "sampleSize = 30\n",
    "muPopulation = 100\n",
    "sigmaPopulation = 15\n",
    "x_bar_val = 112\n",
    "ZscoreP2 = ZscoreCalc(x_bar_val, muPopulation, sigmaPopulation, sampleSize)\n",
    "print(\"Here's Z2: \" + str(ZscoreP2))\n",
    "print(\"According to the Z-score table, Z1 value is approximately equal to 1.6 \")\n",
    "print(\"Z2>Z1; We can reject H_0\")\n"
   ]
  },
  {
   "cell_type": "markdown",
   "metadata": {},
   "source": [
    "# Hypothesis Testing Basics: One Sample Z Test (2-tailed/nondirectional test):\n",
    "\n",
    "(Source: [YT](https://www.youtube.com/watch?v=aiRVUkM92os&feature=emb_logo))\n",
    "\n",
    "\n",
    "Blood glucose levels for obese patients have a mean of 100 with a standard deviation of 15. A researcher thinks that a diet high in raw cornstarch will have an effect on blood glucose levels. A sample of 30 patients who have tried the raw cornstarch diet have a mean glucose level of 140. Test the hypothesis that the raw cornstarch had an effect or not.\n",
    "\n",
    "let's go!\n",
    "\n",
    "- The population mean glucose level is 100 with a standard deviation of 15. We're using a 0.05 significance level (default value if not stated otherwise...).\n"
   ]
  },
  {
   "cell_type": "markdown",
   "metadata": {},
   "source": [
    "## The steps are the same as in the previous exercise...\n",
    "\n",
    "### Step One: List the parameters defined in the question\n",
    "Sample size: n = 36\n",
    "Population mean: μ = 100\n",
    "Population std deviation: σ = 15\n",
    "Sample mean: x-bar = 140\n",
    "We're using a level of significance α = 0.05 in this example\n",
    "\n",
    "### Step Two: Write down the null hypothesis H_0:\n",
    "In this example, H_0 is the fact that cornstarch has no effect on blood glucose levels:\n",
    "H_0: μ = 100\n",
    "\n",
    "In this example, the alternate hypothesis is stating that cornstarch will have a positive effect on blood glucose levels. So we'd have:\n",
    "H_1: μ != 100\n",
    "\n",
    "### Now what?\n",
    "- The population parameters haven't changed, but this time, there's no indication on wether cornstarch increases or decreases blood glucose levels. That's the main difference with the previous exercise where we had the keyword \"above average IQ\" to give us a hint...\n",
    "- So in this example, the critical region we'll use to decide wether or not we're rejecting H_0 will lie on both side of the standard normal distribution. Which will have as an effect, the reduction of that critical region by half (\"α = α/2\" on each sides):\n"
   ]
  },
  {
   "cell_type": "code",
   "execution_count": 16,
   "metadata": {},
   "outputs": [
    {
     "data": {
      "image/png": "[encoded data removed]",
      "text/plain": [
       "<Figure size 432x288 with 1 Axes>"
      ]
     },
     "metadata": {
      "needs_background": "light"
     },
     "output_type": "display_data"
    }
   ],
   "source": [
    "#Use the filling function to identify the 2 areas of the critical region\n",
    "mu = 0\n",
    "variance = np.square(1)\n",
    "sigma = math.sqrt(variance)\n",
    "\n",
    "# We'll plot between [mu-5*sigma ; mu+5*sigma]\n",
    "x = np.linspace(mu - 5*sigma, mu + 5*sigma, 100)\n",
    "plt.plot(x, stats.norm.pdf(x, mu, sigma))\n",
    "plt.show()\n",
    "\n"
   ]
  },
  {
   "cell_type": "markdown",
   "metadata": {},
   "source": [
    "- As you've probably guessed, the z-score absolute value associated with these new critical region will be bigger, so thougher to beat. Looking up the value 1-0.025=0.975 in the z-scores table, we find a z-score Z1 = 1.95. That's what we need to beat!\n",
    "- Now let's calculate Z2:"
   ]
  },
  {
   "cell_type": "code",
   "execution_count": 17,
   "metadata": {},
   "outputs": [
    {
     "name": "stdout",
     "output_type": "stream",
     "text": [
      "Here's Z2: 14.60593486680443\n"
     ]
    }
   ],
   "source": [
    "sampleSize = 30\n",
    "muPopulation = 100\n",
    "sigmaPopulation = 15\n",
    "x_bar_val = 140\n",
    "\n",
    "ZscoreP2 = ZscoreCalc(x_bar_val, muPopulation, sigmaPopulation, sampleSize)\n",
    "print(\"Here's Z2: \" + str(ZscoreP2))"
   ]
  },
  {
   "cell_type": "markdown",
   "metadata": {},
   "source": [
    "### You get the idea, we can reject H_0 and state that cornstarch will have an effect on glucose blood levels. The difference of that sample mean with the population parameter is not just do to random data variation... \n",
    "(put this sentence at the end of the first example plz)"
   ]
  }
 ],
 "metadata": {
  "kernelspec": {
   "display_name": "Python 3",
   "language": "python",
   "name": "python3"
  },
  "language_info": {
   "codemirror_mode": {
    "name": "ipython",
    "version": 3
   },
   "file_extension": ".py",
   "mimetype": "text/x-python",
   "name": "python",
   "nbconvert_exporter": "python",
   "pygments_lexer": "ipython3",
   "version": "3.8.5"
  }
 },
 "nbformat": 4,
 "nbformat_minor": 4
}
