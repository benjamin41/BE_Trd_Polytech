{
 "cells": [
  {
   "cell_type": "markdown",
   "metadata": {},
   "source": [
    "# SESSION 3:"
   ]
  },
  {
   "cell_type": "code",
   "execution_count": 2,
   "metadata": {},
   "outputs": [],
   "source": [
    "\n",
    "# TO DO:\n",
    "# nice example from the following site: https://www.analyticsvidhya.com/blog/2015/09/hypothesis-testing-explained/#:~:text=Blood%20glucose%20levels%20for%20obese,mean%20glucose%20level%20of%20108.\n",
    "    # it has a dataset and some kind of tutorial you can play with to understand the cental limit theorem and its implications....\n",
    "# Finish what's above with the calculus of the probability of a sample to have a weight over....\n",
    "# Maybe add an example from the YT 8 hrs stat course to make sure you understood the notion...\n",
    "# Figure out how to scale the figure window, so that the curve of the normal distribution appears nice and clear...\n",
    "# If you can, find a way to colour the areas under a curve... (really not meandatory here...)"
   ]
  },
  {
   "cell_type": "code",
   "execution_count": null,
   "metadata": {},
   "outputs": [],
   "source": [
    "# ANNEXES:\n",
    "#That site (useful extra exercises for both central limit theorem and hypothesis tests): https://www.analyticsvidhya.com/blog/2015/09/hypothesis-testing-explained/#:~:text=Blood%20glucose%20levels%20for%20obese,mean%20glucose%20level%20of%20108.\n",
    "#In case you ever need to do some advanced toying with array or series indexes in a for loop... just use what's below..:\n",
    "#-----------------------------------------------------------------------------------------------------------------------\n",
    "# Source: https://stackoverflow.com/questions/522563/accessing-the-index-in-for-loops\n",
    "# Using an additional state variable, such as an index variable (which you would normally use in languages such as C or PHP), is considered non-pythonic.\n",
    "\n",
    "# The better option is to use the built-in function enumerate(), available in both Python 2 and 3:\n",
    "\n",
    "# for idx, val in enumerate(ints):\n",
    "#     print(idx, val)\n",
    "#-----------------------------------------------------------------------------------------------------------------------\n",
    "# Source2: https://stackoverflow.com/questions/38387529/how-to-iterate-over-pandas-series-generated-from-groupby-size\n",
    "# Given a pandas Series:\n",
    "\n",
    "# s = pd.Series([1,2,3,4], index=['a', 'b', 'c', 'd'])\n",
    "\n",
    "# s\n",
    "#a    1\n",
    "#b    2\n",
    "#c    3\n",
    "#d    4\n",
    "#dtype: int64\n",
    "# You can directly loop through it, which yield one value from the series in each iteration:\n",
    "\n",
    "# for i in s:\n",
    "#     print(i)\n",
    "# 1\n",
    "# 2\n",
    "# 3\n",
    "# 4\n",
    "# If you want to access the index at the same time, you can use either items or iteritems method, which produces a generator that contains both the index and value:\n",
    "\n",
    "# for i, v in s.items():\n",
    "#     print('index: ', i, 'value: ', v)\n",
    "# #index:  a value:  1\n",
    "# #index:  b value:  2\n",
    "# #index:  c value:  3\n",
    "# #index:  d value:  4\n",
    "\n",
    "# for i, v in s.iteritems():\n",
    "#     print('index: ', i, 'value: ', v)\n",
    "# #index:  a value:  1\n",
    "# #index:  b value:  2\n",
    "# #index:  c value:  3\n",
    "# #index:  d value:  4\n"
   ]
  },
  {
   "cell_type": "markdown",
   "metadata": {},
   "source": [
    "# SESSION 4:"
   ]
  },
  {
   "cell_type": "code",
   "execution_count": null,
   "metadata": {},
   "outputs": [],
   "source": []
  }
 ],
 "metadata": {
  "kernelspec": {
   "display_name": "Python 3",
   "language": "python",
   "name": "python3"
  },
  "language_info": {
   "codemirror_mode": {
    "name": "ipython",
    "version": 3
   },
   "file_extension": ".py",
   "mimetype": "text/x-python",
   "name": "python",
   "nbconvert_exporter": "python",
   "pygments_lexer": "ipython3",
   "version": "3.8.5"
  }
 },
 "nbformat": 4,
 "nbformat_minor": 4
}
