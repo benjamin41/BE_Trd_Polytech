{
 "cells": [
  {
   "cell_type": "code",
   "execution_count": 2,
   "metadata": {},
   "outputs": [],
   "source": [
    "import pandas as pd\n",
    "import numpy as np\n",
    "import seaborn as sns\n",
    "import scipy.stats as stats\n",
    "import math\n",
    "from matplotlib import pyplot as plt\n",
    "#To calculate area below the normal distribution and calculate probabilities\n",
    "from numpy import trapz \n",
    "from scipy.integrate import simps\n"
   ]
  },
  {
   "cell_type": "markdown",
   "metadata": {},
   "source": [
    "# ANOVA"
   ]
  },
  {
   "cell_type": "code",
   "execution_count": 3,
   "metadata": {},
   "outputs": [],
   "source": [
    "# Here's an example you can work on (from khan academy, veeery interesting...): \n",
    "    # Part 1: https://www.youtube.com/watch?v=tjolTrwJhjM\n",
    "    # Part 2: https://www.youtube.com/watch?v=DMo9yofC5C8\n",
    "    # Part 3: https://www.youtube.com/watch?v=y8nRhsixBPs\n",
    "# Among the things you can do/should do: \n",
    "    # I guess just follow along lol\n",
    "    #--------------------------------------------------------------------------------------------\n",
    "    # Always try your best to not just give numerical values but justications using \"ground rules\"    \n",
    "    # create the small datasets he uses in her examples\n",
    "    # calculate stats on em like variance, mean, and stuff like that like in the tea video\n",
    "    # take notes about stuff he says in the video (based on what she says in the tea video)\n",
    "    # ...\n",
    "    # Again, what I want you to do on it is the same as what you did below for the tea exercise...\n",
    "    \n",
    "\n",
    "# Here's an example you can work on A lot of colours in this example, so I want you to do it lol: https://www.youtube.com/watch?v=-yQb_ZJnFXw\n",
    "# Among the things you can do/should do: \n",
    "    # Always try your best to not just give numerical values but justications using \"ground rules\"    \n",
    "    # create the small datasets he uses in her examples\n",
    "    # calculate stats on em like variance, mean, and stuff like that like in the tea video\n",
    "    # take notes about stuff he says in the video (based on what she says in the tea video)\n",
    "    # ...\n",
    "    # Again, what I want you to do on it is the same as what you did below for the tea exercise...\n",
    "    \n",
    "\n",
    "# Here's an example you can work on (tea exercise...): https://www.youtube.com/watch?v=srDr-4cz1KI&feature=emb_logo\n",
    "# Here's the corresponding course: https://www.statisticshowto.com/probability-and-statistics/hypothesis-testing/anova/    \n",
    "# Among the things you can do/should do: \n",
    "    # Always try your best to not just give numerical values but justications using \"ground rules\"\n",
    "    # create the small datasets she uses in her examples\n",
    "    # calculate stats on em like variance, mean, and stuff like that\n",
    "    # take notes about stuff she says in the video\n",
    "    # ...\n",
    "    \n",
    "# Here's another example you can work on: https://www.youtube.com/watch?v=ITf4vHhyGpc\n",
    "    # What you'll do on this is pretty much the same thing as what you did above...\n",
    "\n",
    "# The last one, also interesting: https://www.youtube.com/watch?v=WUjsSB7E-ko\n",
    "    # Same as above...\n",
    "    \n",
    "    \n"
   ]
  },
  {
   "cell_type": "code",
   "execution_count": 1,
   "metadata": {},
   "outputs": [],
   "source": [
    "# And finally one thing you can do is go through the course material of guyader once you feel like you're good enough..."
   ]
  },
  {
   "cell_type": "markdown",
   "metadata": {},
   "source": [
    "# Student"
   ]
  },
  {
   "cell_type": "code",
   "execution_count": 2,
   "metadata": {},
   "outputs": [],
   "source": [
    "# Here's an example you can work on (from khan academy francophone): https://www.youtube.com/watch?v=KGtGgyqKzGQ\n",
    "# Here's the corresponding course: https://www.youtube.com/watch?v=f7gfCutYXbU\n",
    "# Among the things you can do/should do: \n",
    "    # Always try your best to not just give numerical values but justications using \"ground rules\"\n",
    "    # create the small datasets he uses in her examples\n",
    "    # calculate stats on em like variance, mean, and stuff like that (like in the tea video from the anova part)\n",
    "    # take notes about stuff he says in the video (based on what she did in the tea video from the anova part)\n",
    "    # ...\n",
    "\n",
    "\n",
    "# Hey, can you take a look at this before doing anything else?\n",
    "    # Interval de confiance (Student): https://www.youtube.com/watch?v=i5DmLO1wVqQ\n",
    "\n",
    "\n",
    "# Here's an example you can work on (tea exercise...): https://www.youtube.com/watch?v=fKZA5waOJ0U&feature=emb_logo\n",
    "# Here's the corresponding course: https://www.statisticshowto.com/probability-and-statistics/t-test/    \n",
    "# Among the things you can do/should do: \n",
    "    # Always try your best to not just give numerical values but justications using \"ground rules\"\n",
    "    # create the small datasets she uses in her examples\n",
    "    # calculate stats on em like variance, mean, and stuff like that\n",
    "    # take notes about stuff she says in the video\n",
    "    # ...\n",
    "    \n",
    "# Here's a final example I want you to work on:\n",
    "    # part 1 (\"interval de confiance\" stuff...): https://www.youtube.com/watch?v=sXV1GOVpGsY \n",
    "    # part 2 (actual hypothesis testing): https://www.youtube.com/watch?v=Sl5g5_w7HU4\n",
    "# Eventhough it's not a t-test, I like this example, it's a 2 sample comparison on which you wont use the T test, but the z test seen previously...\n",
    "# What I want you to understand with this, is that: \n",
    "    # there's no such thing as t, or z, or x,y,z test I think... \n",
    "    # I think it's more about the information you have in the enonce that you'll know what kind of formula you'll use to calculate the probability you're looking for\n",
    "    # And based on the same enonce, you'll know which normal law table to use (\"is it a z table?\", \"is it a t table?\", ...).\n",
    "    # Rephrasing the above: \"And based on the enonce, you'll know which law does the variable follows...\"\n",
    "    # This a conclusion you can even put in the \"Summary of all kind of testing\" notebook... \n",
    "\n"
   ]
  },
  {
   "cell_type": "code",
   "execution_count": null,
   "metadata": {},
   "outputs": [],
   "source": [
    "# To do: \n",
    "# Maybe inverser l'ordre de anova and student test.. since anova allows \"more\" than t test... anyways, not super important..."
   ]
  },
  {
   "cell_type": "code",
   "execution_count": null,
   "metadata": {},
   "outputs": [],
   "source": [
    "# Annexes:\n",
    "# [in case you really need a course...]: \n",
    "    # https://www.youtube.com/watch?v=FPqeVhtOXEo \n",
    "# [nice interesting other course...]: \n",
    "    # https://www.youtube.com/watch?v=OypCNBPmGBY \n"
   ]
  }
 ],
 "metadata": {
  "kernelspec": {
   "display_name": "Python 3",
   "language": "python",
   "name": "python3"
  },
  "language_info": {
   "codemirror_mode": {
    "name": "ipython",
    "version": 3
   },
   "file_extension": ".py",
   "mimetype": "text/x-python",
   "name": "python",
   "nbconvert_exporter": "python",
   "pygments_lexer": "ipython3",
   "version": "3.8.5"
  }
 },
 "nbformat": 4,
 "nbformat_minor": 4
}
