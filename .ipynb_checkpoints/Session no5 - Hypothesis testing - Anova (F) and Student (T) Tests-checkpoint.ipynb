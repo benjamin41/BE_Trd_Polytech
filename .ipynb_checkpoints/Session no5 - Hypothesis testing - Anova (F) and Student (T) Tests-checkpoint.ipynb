{
 "cells": [
  {
   "cell_type": "code",
   "execution_count": 3,
   "metadata": {},
   "outputs": [],
   "source": [
    "import pandas as pd\n",
    "import numpy as np\n",
    "import seaborn as sns\n",
    "import scipy.stats as stats\n",
    "import math\n",
    "from matplotlib import pyplot as plt\n",
    "#To calculate area below the normal distribution and calculate probabilities\n",
    "from numpy import trapz \n",
    "from scipy.integrate import simps\n"
   ]
  },
  {
   "cell_type": "markdown",
   "metadata": {},
   "source": [
    "# ANOVA"
   ]
  },
  {
   "cell_type": "code",
   "execution_count": 72,
   "metadata": {},
   "outputs": [
    {
     "name": "stdout",
     "output_type": "stream",
     "text": [
      "x_bar_bar = 4.0\n",
      "SCT = 30.0\n",
      "SC_intra = 6.0\n",
      "SC_inter = 24.0\n"
     ]
    }
   ],
   "source": [
    "# part 1 from this vid: https://www.youtube.com/watch?v=tjolTrwJhjM\n",
    "# putain c bien de la merde ca en fait... bon en gros, on considere le jeu de donnnes suivant:\n",
    "# quand tu mettras au propore tu ecris aussi l'enonce que l'on suit ok?\n",
    "    # on suppose que l'on test l'effet de 3 aliments sur un echantillon issue d'une population de personnes...\n",
    "    # chaque colonne decrit les resultats obtenus par les personnes pour un aliment donne\n",
    "    # avec ces resultats experimentaux, state wether or not those aliments have an effect on people (knowing that alpha = 10%)\n",
    "    \n",
    "# On pose les hypotheses:\n",
    "    # H0: aucun des aliments n'a pas d'impacts sur les populations \n",
    "    # et les differences de moyenne observees ne sont pas assez significatives pour deduire d'un quelquonque effet du aux aliments...\n",
    "\n",
    "    # H1: les aliments ont impact, les 3 moyennes different de facon suffisamment significative de la moyenne de la population pour imputer ces differences aux aliments\n",
    "\n",
    "# Ok, travail preparatoire realise... c'est tipar!!\n",
    "# -------------------------------------------------\n",
    "# Definition du dataset (c'est vraiment un dataset bidon lol, jsuis dsl, je reprend l'ex de la video...)\n",
    "df = pd.DataFrame({'Aliment 1':[3,2,1], 'Aliment 2':[5,3,4], 'Aliment 3':[5,6,7]} , index=np.arange(start=0, stop=3, step=1)) \n",
    "df\n",
    "\n",
    "# Now we can calculate X-bar-bar meaning the mean of ALL the values in the dataframe (among all the columns, not per columns, among all of 'em)\n",
    "def get_x_bar_bar_value(df):\n",
    "    df_nbitems = 0\n",
    "    col_sums = []\n",
    "    sum_all_values_in_df =0\n",
    "    for i in range(len(df.columns)):\n",
    "        col = df.iloc[:, i]\n",
    "        col_sum = col.sum()\n",
    "        df_nbitems = df_nbitems+len(col)\n",
    "        col_sums.append(col_sum)\n",
    "    for i in range(len(col_sums)):\n",
    "        sum_all_values_in_df = col_sums[i]+ sum_all_values_in_df\n",
    "    x_bar_bar_value = sum_all_values_in_df/df_nbitems\n",
    "    return x_bar_bar_value\n",
    "\n",
    "x_bar_bar = get_x_bar_bar_value(df)\n",
    "print(\"x_bar_bar = \" + str(x_bar_bar))\n",
    "\n",
    "# We can also calculate what is called SCT \"somme des carres totaux\" in French \n",
    "# it's basically calculate the 'variance' among all the column in the dataset using x_bar_bar as average\n",
    "# So we'd have:\n",
    "\n",
    "def get_SCT(x_bar_bar, df):\n",
    "    SCT = 0\n",
    "    for i in range(len(df.columns)):\n",
    "        col = df.iloc[:, i]\n",
    "        for i in range(len(col)):\n",
    "            SCT = np.square(col[i]-x_b_b) + SCT\n",
    "    return SCT\n",
    "        \n",
    "SCT = get_SCT(x_bar_bar, df)\n",
    "print(\"SCT = \" + str(SCT))\n",
    "\n",
    "\n",
    "# We can also calculate what is called SC_intraclass \n",
    "# it looks like SCT value calculated above, but instead of using x_bar_bar, you wanna use the average value of each column\n",
    "# So we'd have:\n",
    "\n",
    "def get_SC_intra(df):\n",
    "    SC_intra = 0\n",
    "    for i in range(len(df.columns)):\n",
    "        col = df.iloc[:, i]\n",
    "        col_avg = col.sum()/len(col)\n",
    "        for i in range(len(col)):\n",
    "            SC_intra = np.square(col[i]-col_avg)+SC_intra\n",
    "    return SC_intra \n",
    "\n",
    "SC_intra = get_SC_intra(df)\n",
    "print(\"SC_intra = \" + str(SC_intra))\n",
    "    \n",
    "# We can also calculate what is called SC_interclass \n",
    "# it looks like the 2 previous things seen above, but here, you wanna use the average of each column and x_bar_bar\n",
    "# So we'd have:\n",
    "\n",
    "def get_SC_inter(df, x_bar_bar):\n",
    "    SC_inter = 0\n",
    "    for i in range(len(df.columns)):\n",
    "        col = df.iloc[:, i]\n",
    "        col_avg = col.sum()/len(col)\n",
    "        SC_inter = (np.square(col_avg-x_bar_bar)*len(col))+SC_inter\n",
    "    return SC_inter \n",
    "\n",
    "SC_inter = get_SC_inter(df, x_bar_bar)\n",
    "print(\"SC_inter = \" + str(SC_inter))\n",
    "\n",
    "# Rajoute une petite section de texte dans laquelle tu viens simplement ecrire la relation entre ces 3 petites values...\n"
   ]
  },
  {
   "cell_type": "code",
   "execution_count": 85,
   "metadata": {},
   "outputs": [
    {
     "name": "stdout",
     "output_type": "stream",
     "text": [
      "F value = 12.0\n"
     ]
    }
   ],
   "source": [
    "# variable suit une loi F. Dans l'exemple precedent du test d'hypothese \"one sample test\", la variable aleatoire etudiee suit une loi Z\n",
    "# donc on a calcule le valeur de z associe a sa moyenne pour voir si cette valeur correspondait a une valeur \"extreme\" de la distribution Z\n",
    "# valeur extreme si au dela du seuil alpha...\n",
    "\n",
    "# on fait la memem chose ici: a savoir, on sait que les variables etudiees (qui sont 3 instances de la meme variable en fait...) suivent la meme loi F\n",
    "# on calcul cette valeur de F. Puis en se servant de la table de F on voit si la valeur calculee s'avere etre une valeur extreme de cette f distribution\n",
    "# sachant qu'encore une fois, valeur extreme ssi, au dela de ce qui est fixe par alpha (ici 10%)\n",
    "\n",
    "# la formule donnant la valeur de f est la suivante:\n",
    "# F=((SC_intra)/m-1) / ((SC_inter)/m(n-1))\n",
    "# so we'd have in this example: \n",
    "\n",
    "def get_F_value(SC_intra, SC_inter, df):\n",
    "    F = (SC_inter/(len(df.columns)-1)) / (SC_intra/(len(df.columns)*(len(df)-1)))\n",
    "    return F\n",
    "\n",
    "F = get_F_value(SC_intra, SC_inter, df)\n",
    "print(\"F value = \" + str(F))\n",
    "\n",
    "    \n"
   ]
  },
  {
   "cell_type": "code",
   "execution_count": 87,
   "metadata": {},
   "outputs": [],
   "source": [
    "# Now the idea is simply to look up in the F table and using the alpha value guess if F is in critical region\n",
    "# Here's how you can plot f : http://pytolearn.csd.auth.gr/d1-hyptest/11/f-distro.html\n",
    "    # it might require from you a lil bit of research lol anyways... then just use the video to explain how to use it...\n",
    "    # last vid around (13:30)"
   ]
  },
  {
   "cell_type": "code",
   "execution_count": 3,
   "metadata": {},
   "outputs": [],
   "source": [
    "# Here's an example you can work on (from khan academy, veeery interesting...): \n",
    "    # Part 1: https://www.youtube.com/watch?v=tjolTrwJhjM\n",
    "    # Part 2: https://www.youtube.com/watch?v=DMo9yofC5C8\n",
    "    # Part 3: https://www.youtube.com/watch?v=y8nRhsixBPs\n",
    "# Among the things you can do/should do\n",
    ": \n",
    "    # I guess just follow along lol\n",
    "    #--------------------------------------------------------------------------------------------\n",
    "    # Always try your best to not just give numerical values but justications using \"ground rules\"    \n",
    "    # create the small datasets he uses in her examples\n",
    "    # calculate stats on em like variance, mean, and stuff like that like in the tea video\n",
    "    # take notes about stuff he says in the video (based on what she says in the tea video)\n",
    "    # ...\n",
    "    # Again, what I want you to do on it is the same as what you did below for the tea exercise...\n",
    "    \n",
    "\n",
    "# Here's an example you can work on A lot of colours in this example, so I want you to do it lol: https://www.youtube.com/watch?v=-yQb_ZJnFXw\n",
    "# Among the things you can do/should do: \n",
    "    # Always try your best to not just give numerical values but justications using \"ground rules\"    \n",
    "    # create the small datasets he uses in her examples\n",
    "    # calculate stats on em like variance, mean, and stuff like that like in the tea video\n",
    "    # take notes about stuff he says in the video (based on what she says in the tea video)\n",
    "    # ...\n",
    "    # Again, what I want you to do on it is the same as what you did below for the tea exercise...\n",
    "    \n",
    "\n",
    "# Here's an example you can work on (tea exercise...): https://www.youtube.com/watch?v=srDr-4cz1KI&feature=emb_logo\n",
    "# Here's the corresponding course: https://www.statisticshowto.com/probability-and-statistics/hypothesis-testing/anova/    \n",
    "# Among the things you can do/should do: \n",
    "    # Always try your best to not just give numerical values but justications using \"ground rules\"\n",
    "    # create the small datasets she uses in her examples\n",
    "    # calculate stats on em like variance, mean, and stuff like that\n",
    "    # take notes about stuff she says in the video\n",
    "    # ...\n",
    "    \n",
    "# Here's another example you can work on: https://www.youtube.com/watch?v=ITf4vHhyGpc\n",
    "    # What you'll do on this is pretty much the same thing as what you did above...\n",
    "\n",
    "# The last one, also interesting: https://www.youtube.com/watch?v=WUjsSB7E-ko\n",
    "    # Same as above...\n",
    "    \n",
    "    \n"
   ]
  },
  {
   "cell_type": "code",
   "execution_count": 1,
   "metadata": {},
   "outputs": [],
   "source": [
    "# And finally one thing you can do is go through the course material of guyader once you feel like you're good enough..."
   ]
  },
  {
   "cell_type": "markdown",
   "metadata": {},
   "source": [
    "# Student"
   ]
  },
  {
   "cell_type": "code",
   "execution_count": 2,
   "metadata": {},
   "outputs": [],
   "source": [
    "# Here's an example you can work on (from khan academy francophone): https://www.youtube.com/watch?v=KGtGgyqKzGQ\n",
    "# Here's the corresponding course: https://www.youtube.com/watch?v=f7gfCutYXbU\n",
    "# Among the things you can do/should do: \n",
    "    # Always try your best to not just give numerical values but justications using \"ground rules\"\n",
    "    # create the small datasets he uses in her examples\n",
    "    # calculate stats on em like variance, mean, and stuff like that (like in the tea video from the anova part)\n",
    "    # take notes about stuff he says in the video (based on what she did in the tea video from the anova part)\n",
    "    # ...\n",
    "\n",
    "\n",
    "# Hey, can you take a look at this before doing anything else?\n",
    "    # Interval de confiance (Student): https://www.youtube.com/watch?v=i5DmLO1wVqQ\n",
    "\n",
    "\n",
    "# Here's an example you can work on (tea exercise...): https://www.youtube.com/watch?v=fKZA5waOJ0U&feature=emb_logo\n",
    "# Here's the corresponding course: https://www.statisticshowto.com/probability-and-statistics/t-test/    \n",
    "# Among the things you can do/should do: \n",
    "    # Always try your best to not just give numerical values but justications using \"ground rules\"\n",
    "    # create the small datasets she uses in her examples\n",
    "    # calculate stats on em like variance, mean, and stuff like that\n",
    "    # take notes about stuff she says in the video\n",
    "    # ...\n",
    "    \n",
    "# Here's a final example I want you to work on:\n",
    "    # part 1 (\"interval de confiance\" stuff...): https://www.youtube.com/watch?v=sXV1GOVpGsY \n",
    "    # part 2 (actual hypothesis testing): https://www.youtube.com/watch?v=Sl5g5_w7HU4\n",
    "# Eventhough it's not a t-test, I like this example, it's a 2 sample comparison on which you wont use the T test, but the z test seen previously...\n",
    "# What I want you to understand with this, is that: \n",
    "    # there's no such thing as t, or z, or x,y,z test I think... \n",
    "    # I think it's more about the information you have in the enonce that you'll know what kind of formula you'll use to calculate the probability you're looking for\n",
    "    # And based on the same enonce, you'll know which normal law table to use (\"is it a z table?\", \"is it a t table?\", ...).\n",
    "    # Rephrasing the above: \"And based on the enonce, you'll know which law does the variable follows...\"\n",
    "    # This a conclusion you can even put in the \"Summary of all kind of testing\" notebook... \n",
    "\n"
   ]
  },
  {
   "cell_type": "code",
   "execution_count": null,
   "metadata": {},
   "outputs": [],
   "source": [
    "# To do: \n",
    "# Maybe inverser l'ordre de anova and student test.. since anova allows \"more\" than t test... anyways, not super important..."
   ]
  },
  {
   "cell_type": "code",
   "execution_count": null,
   "metadata": {},
   "outputs": [],
   "source": [
    "# Annexes:\n",
    "# [in case you really need a course...]: \n",
    "    # https://www.youtube.com/watch?v=FPqeVhtOXEo \n",
    "# [nice interesting other course...]: \n",
    "    # https://www.youtube.com/watch?v=OypCNBPmGBY \n"
   ]
  }
 ],
 "metadata": {
  "kernelspec": {
   "display_name": "Python 3",
   "language": "python",
   "name": "python3"
  },
  "language_info": {
   "codemirror_mode": {
    "name": "ipython",
    "version": 3
   },
   "file_extension": ".py",
   "mimetype": "text/x-python",
   "name": "python",
   "nbconvert_exporter": "python",
   "pygments_lexer": "ipython3",
   "version": "3.8.5"
  }
 },
 "nbformat": 4,
 "nbformat_minor": 4
}
