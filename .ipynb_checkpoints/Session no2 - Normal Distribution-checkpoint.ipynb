{
 "cells": [
  {
   "cell_type": "code",
   "execution_count": 100,
   "metadata": {},
   "outputs": [],
   "source": [
    "import pandas as pd\n",
    "import numpy as np\n",
    "import seaborn as sns\n",
    "import math\n",
    "from matplotlib import pyplot as plt\n",
    "\n",
    "#To calculate area below the normal distribution and calculate probabilities\n",
    "from numpy import trapz \n",
    "from scipy.integrate import simps\n",
    "\n"
   ]
  },
  {
   "cell_type": "markdown",
   "metadata": {},
   "source": [
    "# Introduction\n",
    "- Not really any questions to answer in Session No.2... just playing with the Normal Distribution a lil' bit.. \n",
    "\n",
    "- We'll plot it using first using its mathematical expression then we'll see what Python libraries have to offer...\n",
    "\n",
    "- From there, the idea is simply to go through the different types of question we can encounter (what's the probability for x> \"any given number...\")"
   ]
  },
  {
   "cell_type": "code",
   "execution_count": 101,
   "metadata": {},
   "outputs": [
    {
     "data": {
      "image/png": "[encoded data removed]",
      "text/plain": [
       "<Figure size 432x288 with 1 Axes>"
      ]
     },
     "metadata": {
      "needs_background": "light"
     },
     "output_type": "display_data"
    }
   ],
   "source": [
    "#[STEP-0]--------------------------------------------------------------------------------------------------------------\n",
    "#create a numpy array with values (start, stop, step...)\n",
    "#watch out: step argument not integer... it's going to mess up the values in X...\n",
    "X = np.arange(start=-10, stop=10, step=0.1)\n",
    "#parameters of the distribution\n",
    "mu = 0\n",
    "sigma = 1\n",
    "\n",
    "\n",
    "#[STEP-1]--------------------------------------------------------------------------------------------------------------\n",
    "#function to calculate the Y values of the X array using the mathematical expression of the \"normal distribution\"\n",
    "#cause even if Matlab lets you pass arays to math expressions (like square or squareroot), python does not\n",
    "#I could use vectorize, but it does not work really good...\n",
    "def normalDistrib(X, Y, mu, sigma):\n",
    "    for x in X:\n",
    "        Y1=(1/np.sqrt(2*np.pi*np.square(sigma)))\n",
    "        Y2= math.exp((-1/2)*np.square((x-mu)/sigma))  \n",
    "        Y3 = Y1 * Y2\n",
    "        Y.append(Y3)\n",
    "    return Y\n",
    "\n",
    "\n",
    "#[STEP-2]--------------------------------------------------------------------------------------------------------------\n",
    "#the empty array of a variable size that'll store the return of the fucntion created above\n",
    "Y = []\n",
    "Y = normalDistrib(X, Y, mu, sigma)\n",
    "Y\n",
    "\n",
    "\n",
    "#[STEP-3]--------------------------------------------------------------------------------------------------------------\n",
    "#Plot the thing\n",
    "plt.plot(X, Y)\n",
    "plt.title(\"Normal distribution\")\n",
    "plt.xlabel(\"X values\")\n",
    "plt.ylabel(\"Frequencies\")\n",
    "plt.show()"
   ]
  },
  {
   "cell_type": "code",
   "execution_count": 102,
   "metadata": {},
   "outputs": [
    {
     "data": {
      "image/png": "[encoded data removed]",
      "text/plain": [
       "<Figure size 432x288 with 2 Axes>"
      ]
     },
     "metadata": {
      "needs_background": "light"
     },
     "output_type": "display_data"
    }
   ],
   "source": [
    "#Now that we have all the values to plot the ditribution (X/Y). let's start playing with it a little bit\n",
    "\n",
    "#[STEP-0]--------------------------------------------------------------------------------------------------------------\n",
    "# Simple probability calculations\n",
    "# P(X<=0): the area below the curve that's before 0... I know it should be 0.5:\n",
    "\n",
    "Xseries= pd.Series(X)\n",
    "Yseries = pd.Series(Y)\n",
    "\n",
    "#the np.arange method sucks... round then use interval cause return not consistent...\n",
    "Xseries.round(1)\n",
    "X_zero_index = Xseries[(Xseries.values>-0.1)&(Xseries.values<0.1)].head(1).index[0]\n",
    "\n",
    "\n",
    "fig = plt.figure()\n",
    "plt.subplot(2, 2, 1)\n",
    "plt.plot(Xseries.head(96), Yseries.head(96))\n",
    "plt.title(\"For the first 106 values\")\n",
    "plt.xlabel(\"Xseries\")\n",
    "plt.ylabel(\"Yseries\")\n",
    "plt.subplot(2, 2, 2)\n",
    "plt.plot(Xseries.head(100), Yseries.head(100))\n",
    "plt.title(\"For the first 100 values\")\n",
    "plt.xlabel(\"Xseries\")\n",
    "# plt.ylabel(\"xxxx\") #Otherwise the title steps on the other plot...\n",
    "plt.show()\n",
    "\n",
    "\n",
    "\n",
    "\n",
    "\n",
    "\n",
    "#-------------------------------\n",
    "# Xseries = Xseries[Xseries.values<0]\n",
    "# Xseries.shape\n",
    "\n",
    "\n",
    "# Yseries = pd.Series(Y)\n",
    "# Yseries = Yseries.head(1001)\n",
    "# Yseries\n",
    "\n",
    "# plt.plot(Xseries, Yseries)\n",
    "# plt.show()\n",
    "# # Compute the area using the composite trapezoidal rule.\n",
    "# area = trapz(Y, X)\n",
    "# area\n",
    "\n",
    "# # area 0.5\n",
    "# area = trapz(Yseries, Xseries)\n",
    "# area\n",
    "# print(\"area =\", area)\n",
    "\n",
    "# # Compute the area using the composite Simpson's rule.\n",
    "# area = simps(y, dx=5)\n",
    "# print(\"area =\", area)\n",
    "\n",
    "\n",
    "# fig, ax=plt.subplots(1,2,figsize=(15,3))\n",
    "# sns.distplot(kickstarters_2017.usd_goal_real, ax=ax[0])\n",
    "# ax[0].set_title(\"Original Data\")\n",
    "# sns.distplot(scaled_data, ax=ax[1])\n",
    "# ax[1].set_title(\"Scaled data\")\n",
    "\n",
    "\n",
    "# fig, ax = plt.subplots(1,2,figsize=(15,3))\n",
    "# sns.displot(xxx, ax = ax[0])\n",
    "# ax[0].set_title(\"xxxxxxxxTitle\")\n",
    "\n",
    "# sns.displot(yyy, ax = ax[0])\n",
    "# ax[1].set_title(\"yyyyyyyyTitle\")\n"
   ]
  },
  {
   "cell_type": "markdown",
   "metadata": {},
   "source": [
    "Again, this whole first step is to play around with mathematical expressions, so I'm really not trying to be exactly perfect in terms of precision... that's why, I'm going to take the right curve. It looks better (knowing that we want the area below the curves until x=0)"
   ]
  },
  {
   "cell_type": "code",
   "execution_count": 103,
   "metadata": {},
   "outputs": [
    {
     "name": "stdout",
     "output_type": "stream",
     "text": [
      "using trapz: area = 0.46020525860606387\n",
      "using simps: area = 0.4601560098268842\n"
     ]
    }
   ],
   "source": [
    "#These 2 methods are 2 different ways to calculate the area below a curve...\n",
    "area = trapz(Yseries.head(100), Xseries.head(100))\n",
    "area\n",
    "print(\"using trapz: area =\", area)\n",
    "area = simps(Yseries.head(100), Xseries.head(100))\n",
    "print(\"using simps: area =\", area)\n"
   ]
  },
  {
   "cell_type": "markdown",
   "metadata": {},
   "source": [
    "Ok, so the algorith is going to be the same all the time... we get the index i of the X value we want, then we calculate the area between the frst i values of both X and Y series to get the probability... Let's do a couple more by creating a function that'll not only get the index of the X we want, but also calculate the area, since it's always the same thing..."
   ]
  },
  {
   "cell_type": "code",
   "execution_count": 104,
   "metadata": {},
   "outputs": [
    {
     "name": "stdout",
     "output_type": "stream",
     "text": [
      "0.4999999999999859\n",
      "0.4999999999999859\n"
     ]
    }
   ],
   "source": [
    "#just for the sake of it I did 2 functions... but they both return approximately the same values...\n",
    "def probabilityCalculusTrapz(X, Xseries, Yseries):\n",
    "    X_index = Xseries[(Xseries.values>(X-0.1))&(Xseries.values<(X+0.1))].tail(1).index[0]\n",
    "    area = trapz(Yseries.head(X_index), Xseries.head(X_index))\n",
    "    return area\n",
    "\n",
    "def probabilityCalculusSimps(X, Xseries, Yseries):\n",
    "    X_index = Xseries[(Xseries.values>(X-0.1))&(Xseries.values<(X+0.1))].tail(1).index[0]\n",
    "    area = simps(Yseries.head(X_index), Xseries.head(X_index))\n",
    "    return area\n",
    "\n",
    "A = probabilityCalculusTrapz(0, Xseries, Yseries)\n",
    "B = probabilityCalculusSimps(0, Xseries, Yseries)\n",
    "print(A)\n",
    "print(B)\n"
   ]
  },
  {
   "cell_type": "markdown",
   "metadata": {},
   "source": [
    "# First type of question: P(X<value)\n",
    "\n",
    "Now that we've made sure that the functions work properly (for the standard normal distribution...), let's deal with the first type of questions: those which, like in the title, ask for the probability of x being below a certain value..."
   ]
  },
  {
   "cell_type": "code",
   "execution_count": 105,
   "metadata": {},
   "outputs": [
    {
     "data": {
      "text/plain": [
       "0.9986390334243085"
      ]
     },
     "execution_count": 105,
     "metadata": {},
     "output_type": "execute_result"
    }
   ],
   "source": [
    "#Back to the questions type: P(X<value) \n",
    "#P(X<=0)\n",
    "P1 = probabilityCalculusTrapz(0, Xseries, Yseries)\n",
    "P1\n",
    "#P(X<=0.8)\n",
    "P2 = probabilityCalculusTrapz(0.8, Xseries, Yseries)\n",
    "P2\n",
    "#P(X<=1.64)\n",
    "P3 = probabilityCalculusTrapz(1.64, Xseries, Yseries)\n",
    "P3\n",
    "# #P(X<=1.96)\n",
    "P3 = probabilityCalculusTrapz(1.96, Xseries, Yseries)\n",
    "P3\n",
    "# P(X<=3)\n",
    "P4 = probabilityCalculusTrapz(3, Xseries, Yseries)\n",
    "P4\n"
   ]
  },
  {
   "cell_type": "markdown",
   "metadata": {},
   "source": [
    "# Second type of questions: P(X = Value)\n",
    "\n",
    "for this type of question, we're simply going to use the expression of the normal distribution. I'll put it in a function...\n",
    "\n",
    "### so the rule would be:  P(X = Value) = f(X)"
   ]
  },
  {
   "cell_type": "code",
   "execution_count": 106,
   "metadata": {},
   "outputs": [
    {
     "data": {
      "text/plain": [
       "0.3989422804014327"
      ]
     },
     "execution_count": 106,
     "metadata": {},
     "output_type": "execute_result"
    }
   ],
   "source": [
    "def probabilityCalcQuestionsType2(X, mu, sigma):\n",
    "    Y1=(1/np.sqrt(2*np.pi*np.square(sigma)))\n",
    "    Y2= math.exp((-1/2)*np.square((X-mu)/sigma))  \n",
    "    Y = Y1 * Y2\n",
    "    return Y\n",
    "\n",
    "X = 0\n",
    "mu = 0\n",
    "sigma = 1\n",
    "\n",
    "Y  = probabilityCalcQuestionsType2(X, mu, sigma)\n",
    "Y"
   ]
  },
  {
   "cell_type": "markdown",
   "metadata": {},
   "source": [
    "The function works fine (again, for the standard normal distribution), lets just do one or two calculus..."
   ]
  },
  {
   "cell_type": "code",
   "execution_count": 107,
   "metadata": {},
   "outputs": [
    {
     "data": {
      "text/plain": [
       "0.4999999999999859"
      ]
     },
     "execution_count": 107,
     "metadata": {},
     "output_type": "execute_result"
    }
   ],
   "source": [
    "#P(X=1)\n",
    "P5  = probabilityCalcQuestionsType2(1, mu, sigma)\n",
    "P5\n",
    "\n",
    "# P(X<0)\n",
    "P6 = probabilityCalculusTrapz(0, Xseries, Yseries)\n",
    "P6"
   ]
  },
  {
   "cell_type": "markdown",
   "metadata": {},
   "source": [
    "# Third type of questions: P(X>value)\n",
    "\n",
    "you get the idea, but know, we'll do the same as what we've done before, but for questions like what's the probability for X to be above a certain value... because I know how the normal distribution works, I'm not going to create any other function to calculate those probabilities: I'm just going to take 1-p(X<value), because of the complementarity stuff, and the fact that the entire area below the curve is supposed to be equal to 1 and stuff...\n",
    "\n",
    "#### So the rule would be: P(X>value) = 1 - P(X<value)"
   ]
  },
  {
   "cell_type": "code",
   "execution_count": 108,
   "metadata": {},
   "outputs": [
    {
     "data": {
      "text/plain": [
       "0.933030881515148"
      ]
     },
     "execution_count": 108,
     "metadata": {},
     "output_type": "execute_result"
    }
   ],
   "source": [
    "#P(X>0)\n",
    "P7  = probabilityCalculusTrapz(0, Xseries, Yseries)\n",
    "P7= 1 - P7\n",
    "P7\n",
    "\n",
    "#P(X>1.64)\n",
    "P8 = probabilityCalculusTrapz(1.64, Xseries, Yseries)\n",
    "P8 = 1 - P8\n",
    "P8\n",
    "\n",
    "#P(X<2.1)\n",
    "P9 = probabilityCalculusTrapz(2.1, Xseries, Yseries)\n",
    "P9 =  P9\n",
    "P9\n",
    "\n",
    "#P(X<-2)\n",
    "P10 = probabilityCalculusTrapz(-2, Xseries, Yseries)\n",
    "P10\n",
    "\n",
    "#P(X<1.5)\n",
    "P11 = probabilityCalculusTrapz(1.5, Xseries, Yseries)\n",
    "P11"
   ]
  },
  {
   "cell_type": "markdown",
   "metadata": {},
   "source": [
    "# 4th type of question: P(value1< X < value2)\n",
    "\n",
    "like before, for this new type, no need to create any other function, the idea is just to understand how to manipulate the normal distribution... I could create the function, but in this case, we're not trying to play with Python...\n",
    "\n",
    "### so here, the rule's gonna be: P(value1< X < value2) = P(X < value2) - P(X < value1) "
   ]
  },
  {
   "cell_type": "code",
   "execution_count": 109,
   "metadata": {},
   "outputs": [
    {
     "data": {
      "text/plain": [
       "0.35383637804861656"
      ]
     },
     "execution_count": 109,
     "metadata": {},
     "output_type": "execute_result"
    }
   ],
   "source": [
    "#P(-1.96< X < 1.96)\n",
    "P12_1 = probabilityCalculusTrapz(-1.96, Xseries, Yseries)\n",
    "P12_2 = probabilityCalculusTrapz(1.96, Xseries, Yseries)\n",
    "\n",
    "P12 = P12_2 - P12_1\n",
    "P12\n",
    "\n",
    "#P(0.2< X < 1.5)\n",
    "P13_1 = probabilityCalculusTrapz(0.2, Xseries, Yseries)\n",
    "P13_2 = probabilityCalculusTrapz(1.5, Xseries, Yseries)\n",
    "\n",
    "P13 = P13_2 - P13_1\n",
    "P13"
   ]
  },
  {
   "cell_type": "markdown",
   "metadata": {},
   "source": [
    "# 5th type of question: \n",
    "- 1: find the z value for P(X < z) = Value\n",
    "- 2: find the z value for P(X > z) = Value\n",
    "- 3: find the z values for P(-z <X < z) = Value\n",
    "\n",
    "We're moving to a new kind of question here. we're not looking for probability values anymore, now we want the z value (in other words the abscisse value for a given probability...). \n",
    "\n",
    "Coding it in a function might be a little too complex to be worth it (in this context). I think I'm just gonna use the built in python function..\n",
    "\n",
    "but just so you know, here's how to answer this kind of question (with the standard normal distribution)\n",
    "- 1: just go in the z-table to find the closest z-score for the given probability\n",
    "- 2: go in the z-table to find the closest z-score for -value. Then just take the opposite of the z-score you'll find, and you're good...\n",
    "- 3: the key information here, is that z and -z are opposite values... so let's say you look up value/2 in the z-table, you'll get z... and -z, well... I'll let you do the math..."
   ]
  },
  {
   "cell_type": "code",
   "execution_count": 99,
   "metadata": {},
   "outputs": [
    {
     "data": {
      "text/plain": [
       "4.0"
      ]
     },
     "execution_count": 99,
     "metadata": {},
     "output_type": "execute_result"
    }
   ],
   "source": [
    "#Not done...\n",
    "def findZvalues(p, Xseries, mu, sigma)\n",
    "    Y1=(1/np.sqrt(2*np.pi*np.square(sigma)))\n",
    "    X = np.sqrt(np.log(Y2)*(2*np.square(sigma))) + mu\n",
    "    \n",
    "    X_index = Xseries[(Xseries.values>(X-0.1))&(Xseries.values<(X+0.1))].tail(1).index[0]\n",
    "\n",
    "# def normalDistrib(X, Y, mu, sigma):\n",
    "#     for x in X:\n",
    "#         Y1=(1/np.sqrt(2*np.pi*np.square(sigma)))\n",
    "#         Y2= math.exp((-1/2)*np.square((x-mu)/sigma))  \n",
    "#         Y3 = Y1 * Y2\n",
    "#         Y.append(Y3)\n",
    "#     return Y\n",
    "Y2 = np.exp(0)\n",
    "sigma = 1\n",
    "mu = 4\n",
    "\n",
    "\n",
    "\n",
    "\n",
    "    "
   ]
  },
  {
   "cell_type": "code",
   "execution_count": null,
   "metadata": {},
   "outputs": [],
   "source": [
    "# TO DO:\n",
    "# Maybe add an example from the YT 8 hrs stat course to make sure you understood the notion..."
   ]
  }
 ],
 "metadata": {
  "kernelspec": {
   "display_name": "Python 3",
   "language": "python",
   "name": "python3"
  },
  "language_info": {
   "codemirror_mode": {
    "name": "ipython",
    "version": 3
   },
   "file_extension": ".py",
   "mimetype": "text/x-python",
   "name": "python",
   "nbconvert_exporter": "python",
   "pygments_lexer": "ipython3",
   "version": "3.8.5"
  }
 },
 "nbformat": 4,
 "nbformat_minor": 4
}
