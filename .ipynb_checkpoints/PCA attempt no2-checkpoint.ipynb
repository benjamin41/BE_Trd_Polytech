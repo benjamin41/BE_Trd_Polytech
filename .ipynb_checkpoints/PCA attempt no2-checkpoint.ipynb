{
 "cells": [
  {
   "cell_type": "code",
   "execution_count": 2,
   "metadata": {},
   "outputs": [],
   "source": [
    "import pandas as pd\n",
    "import numpy as np\n",
    "import seaborn as sns\n",
    "import scipy.stats as stats\n",
    "import math\n",
    "from matplotlib import pyplot as plt\n",
    "#To calculate area below the normal distribution and calculate probabilities\n",
    "from numpy import trapz \n",
    "from scipy.integrate import simps\n"
   ]
  },
  {
   "cell_type": "markdown",
   "metadata": {},
   "source": [
    "Projection vectorielle\n",
    "https://www.youtube.com/watch?v=uV5hmpzmWsU (on fait cet exo. a partir du temps: 46:20)"
   ]
  },
  {
   "cell_type": "code",
   "execution_count": 33,
   "metadata": {},
   "outputs": [
    {
     "data": {
      "image/png": "[encoded data removed]",
      "text/plain": [
       "<Figure size 432x288 with 1 Axes>"
      ]
     },
     "metadata": {
      "needs_background": "light"
     },
     "output_type": "display_data"
    },
    {
     "name": "stdout",
     "output_type": "stream",
     "text": [
      "Correlation between June and July temperatures: 0.9869777062171075\n"
     ]
    }
   ],
   "source": [
    "# Step 1: (attention que des donnees quantitatives ici)\n",
    "# Soit notre dataset d'origine. une representation spatiale de nos donnes signifierait: chaque axe = une variable\n",
    "# l'objectif est de reduire le nombre d'axes afin je pense de pouvoir representer visuellement le dataset, de le representer de facon plus comprehensible que un dataset de nombres...\n",
    "    # (essaie de trouver une explication un peu plus bulletproof qd meme lol). \n",
    "\n",
    "# Dans le cas present, on dispose du dataset suivant: \n",
    "\n",
    "df = pd.read_csv(\"PCA/dataTemperature.csv\", index_col=0)\n",
    "df.head()\n",
    "\n",
    "\n",
    "# Alright, so some columns (aka variables, aka measures) in this dataset can be very similar.\n",
    "# Here, we're analyzing seasonal temperatures acorss the year (the variables are months over the past 30 yrs). \n",
    "# In this very academic/basic example, it's easy to see which variable are going to be strongly correlate:\n",
    "    # 2 months of the same season will have slightly or really similar temperatures..\n",
    "    # 2 consecutive months will have REALLY similar temperature values.    \n",
    "# To assert this statement, let's just visualize the correlation of the temperature in July and August:\n",
    "\n",
    "JulyData = df.loc[:, 'Juillet'] \n",
    "AugustData = df.loc[:, 'Aout'] \n",
    "plt.scatter(JulyData, AugustData)\n",
    "plt.ylabel('July Temperatures')\n",
    "plt.xlabel('August Temperatures')\n",
    "plt.show()\n",
    "\n",
    "# On voit bien que la correlation est tres forte ici, on peut egalement calculer le coefficient de correlation pour s'en assurer:\n",
    "Correlation = df[\"Juillet\"].corr(df[\"Aout\"])\n",
    "print(\"Correlation between June and July temperatures: \"+str(Correlation))\n",
    "\n",
    "    "
   ]
  },
  {
   "cell_type": "code",
   "execution_count": null,
   "metadata": {},
   "outputs": [],
   "source": [
    "# Almost equal to one aka: the perfect linear correlation...\n",
    "# So maybe keeping all the months is not necessary, we might wanna remove extra data from month from the same season...\n",
    "# Here's the correlation matrice to check for the correlations between all the months temperature data:\n",
    "# (Check what's available in Python library to calculate that matrice, maybe in a fancy way...)\n",
    "\n",
    "# [TO BE DONE]\n",
    "\n",
    "# to prove that this matrix works fine, we can plot the correlation for: \n",
    "    # xxx and xxx month that have a negative correlation\n",
    "    # xxx and xxx month that have a positive correlation\n",
    "\n",
    "# [TO BE DONE]\n",
    "    \n",
    "\n",
    "# We know that we can use certain variables (certain months), to represent all the months from the same season (or month that have temperatures mathematically related: opposite temperatures for example...). \n",
    "# ATTENTION:\n",
    "# L'on pourrait facilement tomber dans le piege de dire que l'ACP, c'est juste supprimer/fusionner les colonnes simillaires.\n",
    "# C'est possible dans cet exemple car il s'agit d'un \"dummy example\". En effet, on pourrait tres clairement conserver la quasi totalite de la variabilite du dataset ET en reduire la dimension par la procedure suivante:\n",
    "    # we could just keep the temperature data of one month for each season (or let's say average temperature of summer months), and take a 4 dimension axis (3 usual x,y,z dimensions + dots size as the 4th dimensions) \n",
    "    # and this would pretty accurately represent all this data in 1 visualisation tho...\n",
    "    # Take a look at this:\n",
    "\n",
    "# [TO BE DONE]\n",
    "\n",
    "#Il tient cependant a garder en tete que cela n'est certainement pas valable de maniere generale, sur d'autres types d'examples...\n",
    "    # En fait, il suffit d'ajouter un peu plus de variablite au sein meme des profils de temperature pour que les approximations sur lesquelles sont bases le schema ci dessus ne soient plus valables/possibles... (en effet dans ce contexte, 1 mois ne pourrait plus representer autant d'autres mois)\n",
    "    # Ou tout simplement, avec la meme variabilite de profil chez les individus du dataset, avoir des variables dont l'interpretation est plus complexes... (ici il est facile de se rendre compte qu'on peut simplifier le jeu de donnees via la \"critere saisonal\", mais dans d'autres jeu de donnes, cet exercice, pourrait s'averer bien plus complex/voir impossible)\n",
    "# Donc,l'ACP, c'est dire que: \n",
    "    # si l'on representait chaque individu (chaque \"ville\") du dataset par un point (ou un vecteur) et l'ensemble du dataset par un nuage de points (ou un nuage de vecteurs) dans un espace de dimension donne. \n",
    "    # En applatissant ce nuage (donc en le representant dans un espace de dimension plus faible), l'on conserverait tout de meme autant que possible la variabilite des donnees d'origine. \n",
    "    # Autrment dit: deux points (ou vecteurs) proches dans le nuage d'origine, devraient d'une maniere ou d'une autre le rester dans l'espace final.\n",
    "\n",
    "# So, no matter if this example is not the best example, for the sake of simplicity we'll do the PCA on it anyways. And at the end, we'll compare our result to the simple figure plotted above to check how well we did/which method gives the most accurate result\n",
    "# Ok let's keep going with PCA\n",
    "\n"
   ]
  },
  {
   "cell_type": "code",
   "execution_count": null,
   "metadata": {},
   "outputs": [],
   "source": [
    "# Sum up: What's PCA in english? (answer: fewer number of columns for a given dataset without loosing information. Goal: plot multidemnsional data on simple visualisation)\n",
    "    # So to get back to explain what we're doing here: PCA is an algorithm that will produce for our original dataset an entire new set of variables with a smaller dimension (other terminology for fewer columns)\n",
    "    # Those new dimensions won't be correlated to each other. The original 12 variables probably won't be here anymore, but the new ones will hopefully carry as much information of the original data as possible\n",
    "    # So that's the idea behind ACP, fewer number of variables for as much information as possible...\n",
    "\n",
    "# Sum up: How to achieve PCA? (answer: by projecting initial dataset on vectors caryying the most variation of our dataset)\n",
    "    # Above was the \"English\" explanation for what we're about to do. Now, here comes the math part that'll explain HOW to actually do it!:\n",
    "    # We start with a number of N different \"vectors\" in our dataset. Each vector symbolizes a variable of the dataset (so N goes from 1 to 12 in our exemple)\n",
    "    # Our vectors have all together a dimensionality D=12 (the # of column in our dataset) \n",
    "    # The goal here, is dimensional reduction. We want to map our initial space of dimensionality D=12 onto another space of dimensionality M with M<D (still following? just making stating facts here)\n",
    "    # How are we going to do this mapping??\n",
    "        # without getting to deep in the maths. what we'll do here, is that we'll project the vectors of our original space onto the M vectors of this new space.\n",
    "        # but who are those vectors?? A good criteria for picking those vectors is the percentage of information from the original dataset these vectors can carry\n",
    "        # In other words, you want to project your data onto vectors so that you can keep as much of the original variation of the data as you can\n",
    "        # [TO BE DONE] (Maybe if you can, try to find a dummy example/vulgarisation so that, this rephrasing is also visual, like the example of the dromadaire in Guyader course)\n",
    "\n",
    "# [TO BE DONE]Sum up: How to identify the vectors \"with the most variation\"? (answer: use the math formula)\n",
    "    # We can identify mathematically who those vectors are (the ones that contains most of the original data variation). Here's the formula:\n",
    "        # Maybe add these 2 videos to the resources you're alrady using that might help tho...\n",
    "            # https://www.youtube.com/watch?v=QP43Iy-QQWY&feature=share&fbclid=IwAR25PnVjB61Uvu3X_q_Cb0rO131lNPmq0Bwz7yAVbTpxjUz50o6Oh0NAsOI\n",
    "            # https://www.youtube.com/playlist?list=PLBv09BD7ez_4InDh85LM_43Bsw0cFDHdN&fbclid=IwAR2qI2UIyVzFb9vTj_joZAgFsDN48Urx24u2YzxeKGamZpPLMH4lL3OseuM\n",
    "    # [TO BE DONE]This formula will give you the vectors we're looking for. The mathematical demonstration for this formula is out of the scope of this analysis... but I can do it just for fun...\n",
    "    # [TO BE DONE]Here's theorically how to use it in our example:\n",
    "        # Maybe add these 2 videos to the resources you're alrady using that might help tho...\n",
    "            # https://www.youtube.com/watch?v=QP43Iy-QQWY&feature=share&fbclid=IwAR25PnVjB61Uvu3X_q_Cb0rO131lNPmq0Bwz7yAVbTpxjUz50o6Oh0NAsOI\n",
    "            # https://www.youtube.com/playlist?list=PLBv09BD7ez_4InDh85LM_43Bsw0cFDHdN&fbclid=IwAR2qI2UIyVzFb9vTj_joZAgFsDN48Urx24u2YzxeKGamZpPLMH4lL3OseuM\n",
    "        \n",
    "    # [TO BE DONE] Thank god, Python is easier to use... we'll just use xxx\n",
    "    \n",
    "\n",
    "\n",
    "    \n",
    "# Conclusions:\n",
    "# [TO BE DONE] Conclusion 1: a first rough conclusion We can see that in the first variability dimension/axis of our new plan these 2 cities are close, meaning they have somehow temperatures profiles really similars. And still on that same variability dimension, these 2 cities are pretty far apart, so they must have somehow pretty different temperature profiles. Fact that we can check in the dataset: \n",
    "    # - [TO BE DONE]by plotting them on an axis (x=month;y=temperature)\n",
    "    # - [TO BE DONE]by calculating averages, variance and other exploratory stats about them...\n",
    "    # - [TO BE DONE]from above result interpretation tell on which level these cites are similar or different. In our example .... [TO BE DONE]\n",
    "# [TO BE DONE] Conclusion 2: based on the previous conclusion, we can say on the second variability dimension/axis of our new plan, these 2 cities are ....\n",
    "    # - [TO BE DONE] do like above...\n",
    "\n",
    "# [TO BE DONE] Conclusion final temp:\n",
    "    # - alright, all that just to say that \"nice is cooler\" than paris c'mon, I don't need acp for that!\n",
    "    # - I know lol... but this was just a dummy example. A good dummy example, because it allows us to quickly know how accurate this methode is\n",
    "    # - So of course, this is not simply about stating which cities is the coolest/hottest. this is about having a tool that'll highlight the important components of a multidimentional dataset. and our example dataset is just a way to proove our tool works fine!\n",
    "    # - this tool will have a real use in situations where interpretation would be more complex,   \n",
    "\n",
    "# Ouverture:\n",
    "# [TO BE DONE] Ok, so the little conclusions drawn from above are pretty cool/funny. And they showed us that our PCA tool worked as intended: reducing the dataset original dimension while keeping most of the datavariability.Now what? \n",
    "# we were only able to interpret the reason behind the difference of 2 points on our new axis because this dataset is easy to interpret. We all know XXX is different from xxxx and how XXX2 is different from XXX2 because we went there on vacation, or we've seen it on tv, or...\n",
    "# But what if it was a more complext to interpret dataset? We need to be able to map these new Axes to the old ones.\n",
    "\n",
    "\n",
    "\n",
    "\n",
    "\n",
    "\n"
   ]
  },
  {
   "cell_type": "code",
   "execution_count": null,
   "metadata": {},
   "outputs": [],
   "source": [
    "# ANNEX: Here are the vids I'm using: \n",
    "# trame continue: https://www.youtube.com/watch?v=dhK8nbtii6I \n",
    "# trame continue application direct (a partir du temps: 46:20): https://www.youtube.com/watch?v=uV5hmpzmWsU\n",
    "# revision vid no1 (projection vectorielle): https://www.youtube.com/watch?v=X78tLBY3BMk\n",
    "# revision vid no2 (Eigen values, eigen vectors): https://www.youtube.com/watch?v=glaiP222JWA\n",
    "# revision vid no3 (lagrange multipliers): https://www.youtube.com/watch?v=6oZT72-nnyI\n",
    "# revision vid no4 (\"Derivative of matrix\" not super clear in my mind... is it liked to transposee stuff?): https://www.youtube.com/watch?v=e73033jZTCI\n",
    "# revision vid no5 (\"Covariance matrix\"): https://www.youtube.com/watch?v=152tSYtiQbw"
   ]
  }
 ],
 "metadata": {
  "kernelspec": {
   "display_name": "Python 3",
   "language": "python",
   "name": "python3"
  },
  "language_info": {
   "codemirror_mode": {
    "name": "ipython",
    "version": 3
   },
   "file_extension": ".py",
   "mimetype": "text/x-python",
   "name": "python",
   "nbconvert_exporter": "python",
   "pygments_lexer": "ipython3",
   "version": "3.8.5"
  }
 },
 "nbformat": 4,
 "nbformat_minor": 4
}
