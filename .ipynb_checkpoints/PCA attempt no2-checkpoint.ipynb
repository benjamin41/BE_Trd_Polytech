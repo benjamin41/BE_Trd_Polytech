{
 "cells": [
  {
   "cell_type": "code",
   "execution_count": 2,
   "metadata": {},
   "outputs": [],
   "source": [
    "import pandas as pd\n",
    "import numpy as np\n",
    "import seaborn as sns\n",
    "import scipy.stats as stats\n",
    "import math\n",
    "from matplotlib import pyplot as plt\n",
    "#To calculate area below the normal distribution and calculate probabilities\n",
    "from numpy import trapz \n",
    "from scipy.integrate import simps\n"
   ]
  },
  {
   "cell_type": "markdown",
   "metadata": {},
   "source": [
    "Projection vectorielle\n",
    "https://www.youtube.com/watch?v=uV5hmpzmWsU (on fait cet exo. a partir du temps: 46:20)"
   ]
  },
  {
   "cell_type": "code",
   "execution_count": 3,
   "metadata": {},
   "outputs": [],
   "source": [
    "# Step 1: (attention que des donnees quantitatives ici)\n",
    "# Soit notre dataset d'origine. une representation spatiale de nos donnes signifierait: chaque axe = une variable\n",
    "# l'objectif est de reduire le nombre d'axes (pas encore trop sur de pq, mais bon, soit...). \n",
    "# donc step 1, c'est la projection sur un autre axe\n",
    "# mais sur l'axe qui permet de conserver la plus grande variance de donnes afin de ne pas perdre d'information...\n",
    "# In this context: \n",
    "    # we have the formula of how to transpose a dataset on a given vector\n",
    "    # we have the formula of how to calculate the variance of the projected dataset     \n",
    "    # These 2 information are available at 5:37 on the video (https://www.youtube.com/watch?v=dhK8nbtii6I)\n",
    "    # You might want to create in oneNote a section rappels math about matrices/vecteurs/transposees/projections (find whatever you can on the internet/maybe even use dut/popo stuff...)\n",
    "    \n",
    "# long story short: to maximize the variance of dataset project on x axe, you want to select x axe with the highest lambda value\n",
    "    "
   ]
  },
  {
   "cell_type": "code",
   "execution_count": null,
   "metadata": {},
   "outputs": [],
   "source": [
    "# ANNEX: Here are the vids I'm using: \n",
    "# trame continue: https://www.youtube.com/watch?v=dhK8nbtii6I \n",
    "# trame continue application direct (a partir du temps: 46:20): https://www.youtube.com/watch?v=uV5hmpzmWsU\n",
    "# revision vid no1 (projection vectorielle): https://www.youtube.com/watch?v=X78tLBY3BMk\n",
    "# revision vid no2 (Eigen values, eigen vectors): https://www.youtube.com/watch?v=glaiP222JWA\n",
    "# revision vid no3 (lagrange multipliers): https://www.youtube.com/watch?v=6oZT72-nnyI\n",
    "# revision vid no4 (\"Derivative of matrix\" not super clear in my mind... is it liked to transposee stuff?): https://www.youtube.com/watch?v=e73033jZTCI\n",
    "# revision vid no5 (\"Covariance matrix\"): https://www.youtube.com/watch?v=152tSYtiQbw"
   ]
  }
 ],
 "metadata": {
  "kernelspec": {
   "display_name": "Python 3",
   "language": "python",
   "name": "python3"
  },
  "language_info": {
   "codemirror_mode": {
    "name": "ipython",
    "version": 3
   },
   "file_extension": ".py",
   "mimetype": "text/x-python",
   "name": "python",
   "nbconvert_exporter": "python",
   "pygments_lexer": "ipython3",
   "version": "3.8.5"
  }
 },
 "nbformat": 4,
 "nbformat_minor": 4
}
