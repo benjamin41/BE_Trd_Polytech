{
 "cells": [
  {
   "cell_type": "code",
   "execution_count": 25,
   "metadata": {},
   "outputs": [],
   "source": [
    "import pandas as pd\n",
    "import numpy as np\n",
    "import seaborn as sns\n",
    "import math\n",
    "from matplotlib import pyplot as plt\n",
    "\n",
    "#To calculate area below the normal distribution and calculate probabilities\n",
    "from numpy import trapz \n",
    "from scipy.integrate import simps\n",
    "\n"
   ]
  },
  {
   "cell_type": "markdown",
   "metadata": {},
   "source": [
    "# Exercise p7: Sampling Mean\n",
    "\n",
    "## Part 1:\n",
    "- We're considering a population of N = 5 container and their weight as the measure analyzed:\n",
    "x1=332g, x2=336g, x3=340g, x4=344g et x5=348g\n",
    "\n",
    "- we'll calculate basic values: Mean/Variance and study the distribution of this very small dataset..."
   ]
  },
  {
   "cell_type": "code",
   "execution_count": 26,
   "metadata": {},
   "outputs": [
    {
     "name": "stdout",
     "output_type": "stream",
     "text": [
      "Population mean: 340.0\n",
      "Population variance: 40.00000000000001\n"
     ]
    },
    {
     "data": {
      "text/plain": [
       "<seaborn.axisgrid.FacetGrid at 0x129bc5289d0>"
      ]
     },
     "execution_count": 26,
     "metadata": {},
     "output_type": "execute_result"
    },
    {
     "data": {
      "image/png": "[encoded data removed]",
      "text/plain": [
       "<Figure size 360x360 with 1 Axes>"
      ]
     },
     "metadata": {
      "needs_background": "light"
     },
     "output_type": "display_data"
    }
   ],
   "source": [
    "# Step 1: create an array with the values given in the assignment:\n",
    "X = [332,336,340,344,348]\n",
    "X = pd.Series(X)\n",
    "\n",
    "# Step 2: get the mean and \n",
    "X.mean()\n",
    "Xvariance = np.square(X.std())\n",
    "print(\"Population mean: \" +str(X.mean()))\n",
    "print(\"Population variance: \" +str(Xvariance))\n",
    "X.describe()\n",
    "\n",
    "# Step 3: the distribution of the data (it's pretty simple here...)\n",
    "sns.displot(X)"
   ]
  },
  {
   "cell_type": "markdown",
   "metadata": {},
   "source": [
    "# Exercise p7: Sampling Mean\n",
    "\n",
    "## Part 2:\n",
    "\n",
    "- In the second part of this analysis, we are going to draw all possible samples of size n=2 from a population of size N=5 (Just for the sake of understanding the example, we're using very small values). \n",
    "- Suppose further that we compute a mean score for each sample. In this way, we create a sampling distribution of the mean."
   ]
  },
  {
   "cell_type": "code",
   "execution_count": 29,
   "metadata": {},
   "outputs": [
    {
     "name": "stdout",
     "output_type": "stream",
     "text": [
      "Distribution of Sample Mean: 340.0\n",
      "Distribution of Sample Mean - Variance: 8.000000000000002\n"
     ]
    },
    {
     "data": {
      "image/png": "[encoded data removed]",
      "text/plain": [
       "<Figure size 463.625x360 with 1 Axes>"
      ]
     },
     "metadata": {
      "needs_background": "light"
     },
     "output_type": "display_data"
    }
   ],
   "source": [
    "# step 1: Write a function to generate a dataset containing all possible sample combination from the population\n",
    "def generateSamples(X, Y, n):\n",
    "    for x in X:\n",
    "        for y in X:\n",
    "            sample = [x,y]\n",
    "            sampleMean = (x+y)/2\n",
    "            Y.append([sample, sampleMean])\n",
    "    return Y\n",
    "\n",
    "Y = []\n",
    "n = 2\n",
    "Y = generateSamples(X, Y, n)\n",
    "Y = pd.DataFrame(Y, columns=['Sample', 'Sample Mean'])\n",
    "Y\n",
    "sns.displot(Y)\n",
    "# step 2: The \"sampling distribution Mean\" should be the same as the mean calculated in the first part (population mean)\n",
    "DistSampleMean = Y[\"Sample Mean\"].mean()\n",
    "print(\"Distribution of Sample Mean: \"+ str(DistSampleMean))\n",
    "\n",
    "# step 3: The \"sampling distribution variance\" is given by the following:\n",
    "SampleDistVariance = Xvariance/len(X)\n",
    "print(\"Distribution of Sample Mean - Variance: \"+ str(SampleDistVariance))\n",
    "\n",
    "\n",
    "# - CALCULATE THE SAMPLE VARIANCE\n",
    "# The variance of the sampling distribution of the mean is computed as follows\n",
    "# - RECALCULATE THE SAMPLE MEAN AND VARIANCE USING THE FORMULA WITH POPULATION VARIABLES (sample dist mean = pop mean; but s2 has a formula...)\n",
    "# - Maybe another exercise\n",
    "\n"
   ]
  },
  {
   "cell_type": "markdown",
   "metadata": {},
   "source": [
    "## Exercise p14: Sampling Mean (same as before...)\n",
    "\n",
    "### We're doing the same thing as in the previous exercise. This time, no dataset to deal with, just some descriptive stats..\n",
    "- We know the population mean and standard deviation\n",
    "- We also know that the distribution of the data follows a normal distribution\n",
    "- We're trying to infer the probability of having a sample of 15 element with a mass above 5.3g"
   ]
  },
  {
   "cell_type": "code",
   "execution_count": 31,
   "metadata": {},
   "outputs": [
    {
     "data": {
      "image/png": "[encoded data removed]",
      "text/plain": [
       "<Figure size 720x360 with 1 Axes>"
      ]
     },
     "metadata": {
      "needs_background": "light"
     },
     "output_type": "display_data"
    }
   ],
   "source": [
    "# step 1: just plot a normal distribution with the parameters given in the text:\n",
    "#--------------------------------------------------------------\n",
    "#create a numpy array with values (start, stop, step...)\n",
    "#watch out: step argument not integer... it's going to mess up the values in X...\n",
    "X_billes = np.arange(start=-10, stop=10, step=0.1)\n",
    "#parameters of the distribution\n",
    "mu = 5.02\n",
    "sigma = 0.3\n",
    "\n",
    "\n",
    "#[STEP-1]--------------------------------------------------------------------------------------------------------------\n",
    "#function to calculate the Y values of the X array using the mathematical expression of the \"normal distribution\"\n",
    "#cause even if Matlab lets you pass arays to math expressions (like square or squareroot), python does not\n",
    "#I could use vectorize, but it does not work really good...\n",
    "def normalDistrib(X, Y, mu, sigma):\n",
    "    for x in X:\n",
    "        Y1=(1/np.sqrt(2*np.pi*np.square(sigma)))\n",
    "        Y2= math.exp((-1/2)*np.square((x-mu)/sigma))  \n",
    "        Y3 = Y1 * Y2\n",
    "        Y.append(Y3)\n",
    "    return Y\n",
    "\n",
    "#[STEP-2]--------------------------------------------------------------------------------------------------------------\n",
    "#the empty array of a variable size that'll store the return of the fucntion created above\n",
    "Y_billes = []\n",
    "Y_billes = normalDistrib(X_billes, Y_billes, mu, sigma)\n",
    "Y_billes\n",
    "\n",
    "#[STEP-3]--------------------------------------------------------------------------------------------------------------\n",
    "#Plot the thing\n",
    "f, ax = plt.subplots(figsize=(10,5)) #to set up the size of the figure,\n",
    "plt.plot(X_billes, Y_billes)\n",
    "plt.title(\"Distribution of weight\")\n",
    "plt.xlabel(\"Weight class\")\n",
    "plt.ylabel(\"Frequencies\")\n",
    "plt.show()\n",
    "#Not my best plot... gotta change the scale\n"
   ]
  },
  {
   "cell_type": "markdown",
   "metadata": {},
   "source": [
    "- Plotting this first distribution wasn't really necessary for solving this question.\n",
    "- Now we're just gonna use those population parameters to calculate the parameters for the distribution of sample means and plot that distribution. \n",
    "- We already know that the distribution of sample means will follow the normal distribution, so we'll be able to use it to calculate the probabilities we're looking for..."
   ]
  },
  {
   "cell_type": "code",
   "execution_count": null,
   "metadata": {},
   "outputs": [],
   "source": [
    "# TO DO:\n",
    "# Finish what's above with the calculus of the probability of a sample to have a weight over....\n",
    "# Maybe add an example from the YT 8 hrs stat course to make sure you understood the notion..."
   ]
  },
  {
   "cell_type": "code",
   "execution_count": null,
   "metadata": {},
   "outputs": [],
   "source": [
    "# ANNEXES:\n",
    "#In case you ever need to do some advanced toying with array or series indexes in a for loop... just use what's below..:\n",
    "#-----------------------------------------------------------------------------------------------------------------------\n",
    "# Source: https://stackoverflow.com/questions/522563/accessing-the-index-in-for-loops\n",
    "# Using an additional state variable, such as an index variable (which you would normally use in languages such as C or PHP), is considered non-pythonic.\n",
    "\n",
    "# The better option is to use the built-in function enumerate(), available in both Python 2 and 3:\n",
    "\n",
    "# for idx, val in enumerate(ints):\n",
    "#     print(idx, val)\n",
    "#-----------------------------------------------------------------------------------------------------------------------\n",
    "# Source2: https://stackoverflow.com/questions/38387529/how-to-iterate-over-pandas-series-generated-from-groupby-size\n",
    "# Given a pandas Series:\n",
    "\n",
    "# s = pd.Series([1,2,3,4], index=['a', 'b', 'c', 'd'])\n",
    "\n",
    "# s\n",
    "#a    1\n",
    "#b    2\n",
    "#c    3\n",
    "#d    4\n",
    "#dtype: int64\n",
    "# You can directly loop through it, which yield one value from the series in each iteration:\n",
    "\n",
    "# for i in s:\n",
    "#     print(i)\n",
    "# 1\n",
    "# 2\n",
    "# 3\n",
    "# 4\n",
    "# If you want to access the index at the same time, you can use either items or iteritems method, which produces a generator that contains both the index and value:\n",
    "\n",
    "# for i, v in s.items():\n",
    "#     print('index: ', i, 'value: ', v)\n",
    "# #index:  a value:  1\n",
    "# #index:  b value:  2\n",
    "# #index:  c value:  3\n",
    "# #index:  d value:  4\n",
    "\n",
    "# for i, v in s.iteritems():\n",
    "#     print('index: ', i, 'value: ', v)\n",
    "# #index:  a value:  1\n",
    "# #index:  b value:  2\n",
    "# #index:  c value:  3\n",
    "# #index:  d value:  4\n"
   ]
  }
 ],
 "metadata": {
  "kernelspec": {
   "display_name": "Python 3",
   "language": "python",
   "name": "python3"
  },
  "language_info": {
   "codemirror_mode": {
    "name": "ipython",
    "version": 3
   },
   "file_extension": ".py",
   "mimetype": "text/x-python",
   "name": "python",
   "nbconvert_exporter": "python",
   "pygments_lexer": "ipython3",
   "version": "3.8.5"
  }
 },
 "nbformat": 4,
 "nbformat_minor": 4
}
