{
 "cells": [
  {
   "cell_type": "markdown",
   "metadata": {},
   "source": [
    "I - Theorical questions:\n",
    "\n",
    "1. Definitions:\n",
    "\n",
    "mean: sum of all values divided by the number of observations\n",
    "\n",
    "std deviation: sqrt(variance)\n",
    "\n",
    "variance: gives an information about how well the mean represents the dataset / how does the data varies around the mean \n",
    "\n",
    "2. Definitions:\n",
    "\n",
    "Correlation coefficient of 2 variables: A.K.A \"r\", it takes values between -1 and 1. The name is kinda self explanatory in itself, the idea is to know how 2 dataset relate to each other...\n"
   ]
  },
  {
   "cell_type": "code",
   "execution_count": 27,
   "metadata": {},
   "outputs": [
    {
     "data": {
      "text/html": [
       "<div>\n",
       "<style scoped>\n",
       "    .dataframe tbody tr th:only-of-type {\n",
       "        vertical-align: middle;\n",
       "    }\n",
       "\n",
       "    .dataframe tbody tr th {\n",
       "        vertical-align: top;\n",
       "    }\n",
       "\n",
       "    .dataframe thead th {\n",
       "        text-align: right;\n",
       "    }\n",
       "</style>\n",
       "<table border=\"1\" class=\"dataframe\">\n",
       "  <thead>\n",
       "    <tr style=\"text-align: right;\">\n",
       "      <th></th>\n",
       "      <th>Ech1</th>\n",
       "      <th>Ech2</th>\n",
       "    </tr>\n",
       "  </thead>\n",
       "  <tbody>\n",
       "    <tr>\n",
       "      <th>0</th>\n",
       "      <td>10.3379</td>\n",
       "      <td>0.1812</td>\n",
       "    </tr>\n",
       "    <tr>\n",
       "      <th>1</th>\n",
       "      <td>9.6524</td>\n",
       "      <td>0.0172</td>\n",
       "    </tr>\n",
       "    <tr>\n",
       "      <th>2</th>\n",
       "      <td>7.0915</td>\n",
       "      <td>1.1038</td>\n",
       "    </tr>\n",
       "    <tr>\n",
       "      <th>3</th>\n",
       "      <td>12.9593</td>\n",
       "      <td>0.5032</td>\n",
       "    </tr>\n",
       "    <tr>\n",
       "      <th>4</th>\n",
       "      <td>9.9614</td>\n",
       "      <td>1.4849</td>\n",
       "    </tr>\n",
       "  </tbody>\n",
       "</table>\n",
       "</div>"
      ],
      "text/plain": [
       "      Ech1    Ech2\n",
       "0  10.3379  0.1812\n",
       "1   9.6524  0.0172\n",
       "2   7.0915  1.1038\n",
       "3  12.9593  0.5032\n",
       "4   9.9614  1.4849"
      ]
     },
     "execution_count": 27,
     "metadata": {},
     "output_type": "execute_result"
    }
   ],
   "source": [
    "#Exercise 1: question 1: \n",
    "#We want the min/max/mean/median values for the attached dataset\n",
    "\n",
    "#first step: load the dataset\n",
    "import pandas as pd\n",
    "import numpy as np\n",
    "\n",
    "dataset = pd.read_csv(\"Attachments session no1/Exercice1.csv\")\n",
    "dataset.head()\n"
   ]
  },
  {
   "cell_type": "code",
   "execution_count": 28,
   "metadata": {},
   "outputs": [
    {
     "data": {
      "text/plain": [
       "count    150.000000\n",
       "mean       9.993313\n",
       "std        2.529751\n",
       "min        3.877500\n",
       "25%        8.226375\n",
       "50%        9.895400\n",
       "75%       11.658425\n",
       "max       15.931600\n",
       "Name: Ech1, dtype: float64"
      ]
     },
     "execution_count": 28,
     "metadata": {},
     "output_type": "execute_result"
    }
   ],
   "source": [
    "#get the following values: min/max/mean/median for Ech1\n",
    "minValEch1 = dataset.Ech1.min()\n",
    "maxValEch1 = dataset.Ech1.max()\n",
    "meanValEch1 = dataset.Ech1.mean()\n",
    "medianValEch1 = dataset.Ech1.median()\n",
    "#other way of doing this:\n",
    "dataset.Ech1.describe()"
   ]
  },
  {
   "cell_type": "code",
   "execution_count": 29,
   "metadata": {},
   "outputs": [
    {
     "data": {
      "text/plain": [
       "count    150.000000\n",
       "mean       9.994585\n",
       "std        2.434208\n",
       "min        4.052100\n",
       "25%        8.288475\n",
       "50%        9.895400\n",
       "75%       11.595025\n",
       "max       15.531400\n",
       "Name: Ech1, dtype: float64"
      ]
     },
     "execution_count": 29,
     "metadata": {},
     "output_type": "execute_result"
    }
   ],
   "source": [
    "#Exercise 1: question 1 (extra...):\n",
    "#modify the min and max value of the dataset, then give the new max/min/... values\n",
    "\n",
    "_Ech1 = pd.Series(dataset.Ech1)\n",
    "\n",
    "_Ech1[_Ech1 == _Ech1.max()] = 11\n",
    "_Ech1[_Ech1 == _Ech1.min()] = 9\n",
    "_Ech1.describe()\n",
    "#observations?\n",
    "#Outliers can have a big effect on those measures, especially knowing how small the dataset is.\n"
   ]
  },
  {
   "cell_type": "code",
   "execution_count": 30,
   "metadata": {},
   "outputs": [
    {
     "data": {
      "text/plain": [
       "<AxesSubplot:>"
      ]
     },
     "execution_count": 30,
     "metadata": {},
     "output_type": "execute_result"
    },
    {
     "data": {
      "image/png": "[encoded data removed]",
      "text/plain": [
       "<Figure size 432x288 with 1 Axes>"
      ]
     },
     "metadata": {
      "needs_background": "light"
     },
     "output_type": "display_data"
    }
   ],
   "source": [
    "#Exercise 1: question 2\n",
    "\n",
    "#Draw the whisker plot for Ech1\n",
    "dataset.Ech1.plot.box()\n",
    "\n",
    "#to answer the question:\n",
    "# The whiskers are the min and max values of the dataset\n",
    "# the quartiles are represented by the lines of the box between the whiskers...\n",
    "# their values were given above, in the previous question by using the .describe method\n",
    "#Here's a perfect example of how drastical the effect of outliers can be.. "
   ]
  },
  {
   "cell_type": "code",
   "execution_count": 31,
   "metadata": {},
   "outputs": [
    {
     "data": {
      "image/png": "[encoded data removed]",
      "text/plain": [
       "<Figure size 432x288 with 1 Axes>"
      ]
     },
     "metadata": {
      "needs_background": "light"
     },
     "output_type": "display_data"
    }
   ],
   "source": [
    "#Exercise 1: question 3:\n",
    "\n",
    "#Histogram of Ech1\n",
    "from matplotlib import pyplot as plt\n",
    "plt.hist(dataset.Ech1)\n",
    "plt.xlabel('Ech1 values')\n",
    "plt.ylabel('frequency')\n",
    "plt.show()\n",
    "\n",
    "#It looks a liiittleeee bit like a normal distribution\n"
   ]
  },
  {
   "cell_type": "code",
   "execution_count": 86,
   "metadata": {},
   "outputs": [
    {
     "data": {
      "text/html": [
       "<div>\n",
       "<style scoped>\n",
       "    .dataframe tbody tr th:only-of-type {\n",
       "        vertical-align: middle;\n",
       "    }\n",
       "\n",
       "    .dataframe tbody tr th {\n",
       "        vertical-align: top;\n",
       "    }\n",
       "\n",
       "    .dataframe thead th {\n",
       "        text-align: right;\n",
       "    }\n",
       "</style>\n",
       "<table border=\"1\" class=\"dataframe\">\n",
       "  <thead>\n",
       "    <tr style=\"text-align: right;\">\n",
       "      <th></th>\n",
       "      <th>Sujet</th>\n",
       "      <th>1</th>\n",
       "      <th>2</th>\n",
       "      <th>3</th>\n",
       "      <th>4</th>\n",
       "      <th>5</th>\n",
       "      <th>6</th>\n",
       "      <th>7</th>\n",
       "      <th>8</th>\n",
       "      <th>9</th>\n",
       "      <th>10</th>\n",
       "      <th>11</th>\n",
       "    </tr>\n",
       "  </thead>\n",
       "  <tbody>\n",
       "    <tr>\n",
       "      <th>0</th>\n",
       "      <td>Taille</td>\n",
       "      <td>1.75</td>\n",
       "      <td>1.67</td>\n",
       "      <td>1.82</td>\n",
       "      <td>1.6</td>\n",
       "      <td>1.75</td>\n",
       "      <td>1.8</td>\n",
       "      <td>1.72</td>\n",
       "      <td>1.6</td>\n",
       "      <td>1.9</td>\n",
       "      <td>1.8</td>\n",
       "      <td>1.65</td>\n",
       "    </tr>\n",
       "    <tr>\n",
       "      <th>1</th>\n",
       "      <td>Poids</td>\n",
       "      <td>81.00</td>\n",
       "      <td>63.00</td>\n",
       "      <td>90.00</td>\n",
       "      <td>61.0</td>\n",
       "      <td>69.00</td>\n",
       "      <td>78.0</td>\n",
       "      <td>68.00</td>\n",
       "      <td>56.0</td>\n",
       "      <td>95.0</td>\n",
       "      <td>84.0</td>\n",
       "      <td>60.00</td>\n",
       "    </tr>\n",
       "    <tr>\n",
       "      <th>2</th>\n",
       "      <td>NaN</td>\n",
       "      <td>NaN</td>\n",
       "      <td>NaN</td>\n",
       "      <td>NaN</td>\n",
       "      <td>NaN</td>\n",
       "      <td>NaN</td>\n",
       "      <td>NaN</td>\n",
       "      <td>NaN</td>\n",
       "      <td>NaN</td>\n",
       "      <td>NaN</td>\n",
       "      <td>NaN</td>\n",
       "      <td>NaN</td>\n",
       "    </tr>\n",
       "    <tr>\n",
       "      <th>3</th>\n",
       "      <td>NaN</td>\n",
       "      <td>NaN</td>\n",
       "      <td>NaN</td>\n",
       "      <td>NaN</td>\n",
       "      <td>NaN</td>\n",
       "      <td>NaN</td>\n",
       "      <td>NaN</td>\n",
       "      <td>NaN</td>\n",
       "      <td>NaN</td>\n",
       "      <td>NaN</td>\n",
       "      <td>NaN</td>\n",
       "      <td>NaN</td>\n",
       "    </tr>\n",
       "    <tr>\n",
       "      <th>4</th>\n",
       "      <td>NaN</td>\n",
       "      <td>NaN</td>\n",
       "      <td>NaN</td>\n",
       "      <td>NaN</td>\n",
       "      <td>NaN</td>\n",
       "      <td>NaN</td>\n",
       "      <td>NaN</td>\n",
       "      <td>NaN</td>\n",
       "      <td>NaN</td>\n",
       "      <td>NaN</td>\n",
       "      <td>NaN</td>\n",
       "      <td>NaN</td>\n",
       "    </tr>\n",
       "  </tbody>\n",
       "</table>\n",
       "</div>"
      ],
      "text/plain": [
       "    Sujet      1      2      3     4      5     6      7     8     9    10  \\\n",
       "0  Taille   1.75   1.67   1.82   1.6   1.75   1.8   1.72   1.6   1.9   1.8   \n",
       "1   Poids  81.00  63.00  90.00  61.0  69.00  78.0  68.00  56.0  95.0  84.0   \n",
       "2     NaN    NaN    NaN    NaN   NaN    NaN   NaN    NaN   NaN   NaN   NaN   \n",
       "3     NaN    NaN    NaN    NaN   NaN    NaN   NaN    NaN   NaN   NaN   NaN   \n",
       "4     NaN    NaN    NaN    NaN   NaN    NaN   NaN    NaN   NaN   NaN   NaN   \n",
       "\n",
       "      11  \n",
       "0   1.65  \n",
       "1  60.00  \n",
       "2    NaN  \n",
       "3    NaN  \n",
       "4    NaN  "
      ]
     },
     "execution_count": 86,
     "metadata": {},
     "output_type": "execute_result"
    }
   ],
   "source": [
    "#Exercise 2: question 1\n",
    "\n",
    "#first step: load the dataset\n",
    "dataset_2 = pd.read_csv(\"Attachments session no1/Exercice2.csv\")\n",
    "dataset_2.head()\n"
   ]
  },
  {
   "cell_type": "code",
   "execution_count": 87,
   "metadata": {},
   "outputs": [
    {
     "data": {
      "text/html": [
       "<div>\n",
       "<style scoped>\n",
       "    .dataframe tbody tr th:only-of-type {\n",
       "        vertical-align: middle;\n",
       "    }\n",
       "\n",
       "    .dataframe tbody tr th {\n",
       "        vertical-align: top;\n",
       "    }\n",
       "\n",
       "    .dataframe thead th {\n",
       "        text-align: right;\n",
       "    }\n",
       "</style>\n",
       "<table border=\"1\" class=\"dataframe\">\n",
       "  <thead>\n",
       "    <tr style=\"text-align: right;\">\n",
       "      <th></th>\n",
       "      <th>Sujet</th>\n",
       "      <th>1</th>\n",
       "      <th>2</th>\n",
       "      <th>3</th>\n",
       "      <th>4</th>\n",
       "      <th>5</th>\n",
       "      <th>6</th>\n",
       "      <th>7</th>\n",
       "      <th>8</th>\n",
       "      <th>9</th>\n",
       "      <th>10</th>\n",
       "      <th>11</th>\n",
       "    </tr>\n",
       "  </thead>\n",
       "  <tbody>\n",
       "    <tr>\n",
       "      <th>0</th>\n",
       "      <td>Taille</td>\n",
       "      <td>1.75</td>\n",
       "      <td>1.67</td>\n",
       "      <td>1.82</td>\n",
       "      <td>1.6</td>\n",
       "      <td>1.75</td>\n",
       "      <td>1.8</td>\n",
       "      <td>1.72</td>\n",
       "      <td>1.6</td>\n",
       "      <td>1.9</td>\n",
       "      <td>1.8</td>\n",
       "      <td>1.65</td>\n",
       "    </tr>\n",
       "    <tr>\n",
       "      <th>1</th>\n",
       "      <td>Poids</td>\n",
       "      <td>81.00</td>\n",
       "      <td>63.00</td>\n",
       "      <td>90.00</td>\n",
       "      <td>61.0</td>\n",
       "      <td>69.00</td>\n",
       "      <td>78.0</td>\n",
       "      <td>68.00</td>\n",
       "      <td>56.0</td>\n",
       "      <td>95.0</td>\n",
       "      <td>84.0</td>\n",
       "      <td>60.00</td>\n",
       "    </tr>\n",
       "  </tbody>\n",
       "</table>\n",
       "</div>"
      ],
      "text/plain": [
       "    Sujet      1      2      3     4      5     6      7     8     9    10  \\\n",
       "0  Taille   1.75   1.67   1.82   1.6   1.75   1.8   1.72   1.6   1.9   1.8   \n",
       "1   Poids  81.00  63.00  90.00  61.0  69.00  78.0  68.00  56.0  95.0  84.0   \n",
       "\n",
       "      11  \n",
       "0   1.65  \n",
       "1  60.00  "
      ]
     },
     "execution_count": 87,
     "metadata": {},
     "output_type": "execute_result"
    }
   ],
   "source": [
    "#the aim here is to calculate the correlation between the rows \"Taille\" and \"Poids\"\n",
    "#BUT: this dataset needs some cleaning... let's remove rows 2,3 and 4\n",
    "dataset_2= dataset_2.dropna()\n",
    "dataset_2"
   ]
  },
  {
   "cell_type": "code",
   "execution_count": 91,
   "metadata": {},
   "outputs": [
    {
     "data": {
      "text/html": [
       "<div>\n",
       "<style scoped>\n",
       "    .dataframe tbody tr th:only-of-type {\n",
       "        vertical-align: middle;\n",
       "    }\n",
       "\n",
       "    .dataframe tbody tr th {\n",
       "        vertical-align: top;\n",
       "    }\n",
       "\n",
       "    .dataframe thead th {\n",
       "        text-align: right;\n",
       "    }\n",
       "</style>\n",
       "<table border=\"1\" class=\"dataframe\">\n",
       "  <thead>\n",
       "    <tr style=\"text-align: right;\">\n",
       "      <th></th>\n",
       "      <th>1</th>\n",
       "      <th>2</th>\n",
       "      <th>3</th>\n",
       "      <th>4</th>\n",
       "      <th>5</th>\n",
       "      <th>6</th>\n",
       "      <th>7</th>\n",
       "      <th>8</th>\n",
       "      <th>9</th>\n",
       "      <th>10</th>\n",
       "      <th>11</th>\n",
       "    </tr>\n",
       "    <tr>\n",
       "      <th>Sujet</th>\n",
       "      <th></th>\n",
       "      <th></th>\n",
       "      <th></th>\n",
       "      <th></th>\n",
       "      <th></th>\n",
       "      <th></th>\n",
       "      <th></th>\n",
       "      <th></th>\n",
       "      <th></th>\n",
       "      <th></th>\n",
       "      <th></th>\n",
       "    </tr>\n",
       "  </thead>\n",
       "  <tbody>\n",
       "    <tr>\n",
       "      <th>Taille</th>\n",
       "      <td>1.75</td>\n",
       "      <td>1.67</td>\n",
       "      <td>1.82</td>\n",
       "      <td>1.6</td>\n",
       "      <td>1.75</td>\n",
       "      <td>1.8</td>\n",
       "      <td>1.72</td>\n",
       "      <td>1.6</td>\n",
       "      <td>1.9</td>\n",
       "      <td>1.8</td>\n",
       "      <td>1.65</td>\n",
       "    </tr>\n",
       "    <tr>\n",
       "      <th>Poids</th>\n",
       "      <td>81.00</td>\n",
       "      <td>63.00</td>\n",
       "      <td>90.00</td>\n",
       "      <td>61.0</td>\n",
       "      <td>69.00</td>\n",
       "      <td>78.0</td>\n",
       "      <td>68.00</td>\n",
       "      <td>56.0</td>\n",
       "      <td>95.0</td>\n",
       "      <td>84.0</td>\n",
       "      <td>60.00</td>\n",
       "    </tr>\n",
       "  </tbody>\n",
       "</table>\n",
       "</div>"
      ],
      "text/plain": [
       "            1      2      3     4      5     6      7     8     9    10     11\n",
       "Sujet                                                                         \n",
       "Taille   1.75   1.67   1.82   1.6   1.75   1.8   1.72   1.6   1.9   1.8   1.65\n",
       "Poids   81.00  63.00  90.00  61.0  69.00  78.0  68.00  56.0  95.0  84.0  60.00"
      ]
     },
     "execution_count": 91,
     "metadata": {},
     "output_type": "execute_result"
    }
   ],
   "source": [
    "#This looks good.. I'm just going to set \"Sujet\" column as an index column since \"Taille\" and \"Poids\" are not actual values,\n",
    "#and might be a problem to deal with when making calculations in later questions...\n",
    "dataset_cleansened = dataset_2.set_index(\"Sujet\")\n",
    "dataset_cleansened\n"
   ]
  },
  {
   "cell_type": "code",
   "execution_count": 98,
   "metadata": {},
   "outputs": [
    {
     "data": {
      "text/plain": [
       "0.9494036601337497"
      ]
     },
     "execution_count": 98,
     "metadata": {},
     "output_type": "execute_result"
    }
   ],
   "source": [
    "#The dataset has been cleansed, we can use it to calculate the correlation\n",
    "_ = dataset_cleansened.loc['Taille'].corr(dataset_cleansened.loc['Poids'])\n",
    "\n",
    "#Test if the functions work properly with a quick autocorrelation to check that the returned value is 1\n",
    "_1 = dataset_cleansened.loc['Taille'].corr(dataset_cleansened.loc['Taille']) \n",
    "_2 = dataset_cleansened.loc['Poids'].corr(dataset_cleansened.loc['Poids']) \n",
    "\n",
    "_\n",
    "#the coefficient of correlation is pretty high (knowing that -1<r<1). That implies a linear relationship between height and weight.\n",
    "#watch out: height does not necessarily cause weight (and as you've prolly guessed, same goes for the opposite...)\n"
   ]
  }
 ],
 "metadata": {
  "kernelspec": {
   "display_name": "Python 3",
   "language": "python",
   "name": "python3"
  },
  "language_info": {
   "codemirror_mode": {
    "name": "ipython",
    "version": 3
   },
   "file_extension": ".py",
   "mimetype": "text/x-python",
   "name": "python",
   "nbconvert_exporter": "python",
   "pygments_lexer": "ipython3",
   "version": "3.8.5"
  }
 },
 "nbformat": 4,
 "nbformat_minor": 4
}
