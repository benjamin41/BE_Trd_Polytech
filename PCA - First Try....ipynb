{
 "cells": [
  {
   "cell_type": "code",
   "execution_count": 2,
   "metadata": {},
   "outputs": [],
   "source": [
    "import pandas as pd\n",
    "import numpy as np\n",
    "import seaborn as sns\n",
    "import scipy.stats as stats\n",
    "import math\n",
    "from matplotlib import pyplot as plt\n",
    "#To calculate area below the normal distribution and calculate probabilities\n",
    "from numpy import trapz \n",
    "from scipy.integrate import simps\n"
   ]
  },
  {
   "cell_type": "code",
   "execution_count": 1,
   "metadata": {},
   "outputs": [],
   "source": [
    "# [Part 1] https://www.youtube.com/watch?v=pmG4K79DUoI \n",
    "# [Part 2] https://www.youtube.com/watch?v=dhK8nbtii6I\n",
    "# (very very nice tho...) https://www.youtube.com/watch?v=uV5hmpzmWsU (a partir du temps: 46:20)\n",
    "# (very nice tho...)based on the courses above, here's another possible exercise you can try: https://blog.exploratory.io/an-introduction-to-principal-component-analysis-pca-with-2018-world-soccer-players-data-810d84a14eab\n",
    "# (pretty nice too tho...)based on the courses above, try to do this guided exercise: https://towardsdatascience.com/principal-component-analysis-algorithm-in-real-life-discovering-patterns-in-a-real-estate-dataset-18134c57ffe7\n",
    "\n",
    "# based on the courses above, here's another possible exercise you can try: https://blog.exploratory.io/using-pca-to-see-which-countries-have-better-players-for-world-cup-games-a72f91698b95\n",
    "# based on the courses above, here's another possible exercise you can try: https://blog.exploratory.io/using-pca-to-see-which-countries-have-better-players-for-world-cup-games-a72f91698b95\n",
    "# based on the above courses try to do this example: https://www.youtube.com/watch?v=XRCc3HbAF-k"
   ]
  },
  {
   "cell_type": "code",
   "execution_count": 1,
   "metadata": {},
   "outputs": [],
   "source": [
    "# Maybe once you start feeling comfortable with this, just go with the flow with dataset from the nba"
   ]
  },
  {
   "cell_type": "code",
   "execution_count": null,
   "metadata": {},
   "outputs": [],
   "source": []
  },
  {
   "cell_type": "code",
   "execution_count": null,
   "metadata": {},
   "outputs": [],
   "source": []
  },
  {
   "cell_type": "code",
   "execution_count": null,
   "metadata": {},
   "outputs": [],
   "source": []
  },
  {
   "cell_type": "markdown",
   "metadata": {},
   "source": [
    "try to make screenshots and insert pics of the dataset and what we're doing in this video: https://www.youtube.com/watch?v=FgakZw6K1QQ"
   ]
  },
  {
   "cell_type": "code",
   "execution_count": 26,
   "metadata": {
    "scrolled": true
   },
   "outputs": [
    {
     "data": {
      "text/html": [
       "<div>\n",
       "<style scoped>\n",
       "    .dataframe tbody tr th:only-of-type {\n",
       "        vertical-align: middle;\n",
       "    }\n",
       "\n",
       "    .dataframe tbody tr th {\n",
       "        vertical-align: top;\n",
       "    }\n",
       "\n",
       "    .dataframe thead th {\n",
       "        text-align: right;\n",
       "    }\n",
       "</style>\n",
       "<table border=\"1\" class=\"dataframe\">\n",
       "  <thead>\n",
       "    <tr style=\"text-align: right;\">\n",
       "      <th></th>\n",
       "      <th>Gene 1</th>\n",
       "      <th>Gene 2</th>\n",
       "    </tr>\n",
       "  </thead>\n",
       "  <tbody>\n",
       "    <tr>\n",
       "      <th>Mouse 1</th>\n",
       "      <td>10</td>\n",
       "      <td>6.0</td>\n",
       "    </tr>\n",
       "    <tr>\n",
       "      <th>Mouse 2</th>\n",
       "      <td>11</td>\n",
       "      <td>4.0</td>\n",
       "    </tr>\n",
       "    <tr>\n",
       "      <th>Mouse 3</th>\n",
       "      <td>8</td>\n",
       "      <td>5.0</td>\n",
       "    </tr>\n",
       "    <tr>\n",
       "      <th>Mouse 4</th>\n",
       "      <td>3</td>\n",
       "      <td>3.0</td>\n",
       "    </tr>\n",
       "    <tr>\n",
       "      <th>Mouse 5</th>\n",
       "      <td>2</td>\n",
       "      <td>2.8</td>\n",
       "    </tr>\n",
       "    <tr>\n",
       "      <th>Mouse 6</th>\n",
       "      <td>1</td>\n",
       "      <td>1.0</td>\n",
       "    </tr>\n",
       "  </tbody>\n",
       "</table>\n",
       "</div>"
      ],
      "text/plain": [
       "         Gene 1  Gene 2\n",
       "Mouse 1      10     6.0\n",
       "Mouse 2      11     4.0\n",
       "Mouse 3       8     5.0\n",
       "Mouse 4       3     3.0\n",
       "Mouse 5       2     2.8\n",
       "Mouse 6       1     1.0"
      ]
     },
     "execution_count": 26,
     "metadata": {},
     "output_type": "execute_result"
    }
   ],
   "source": [
    "# Create the dataset containing Gene 1/Gene 2 for Mouses individuals\n",
    "#Just to have fun, different ways of assigning values to index...\n",
    "df = pd.DataFrame({'Gene 1':[10,11,8,3,2,1], 'Gene 2':[6,4,5,3,2.8,1]}, index=np.arange(start=0, stop=6, step=1))\n",
    "df = pd.DataFrame({'Gene 1':[10,11,8,3,2,1], 'Gene 2':[6,4,5,3,2.8,1]}, index=[0,1,2,3,4,5])\n",
    "df.index = np.arange(df.shape[0])\n",
    "df.index = np.arange(start=1, stop=7, step=1)\n",
    "\n",
    "#ultimately we want to name the indexes the same way as in the video:\n",
    "df.index = ['Mouse 1', 'Mouse 2', 'Mouse 3', 'Mouse 4', 'Mouse 5', 'Mouse 6']\n",
    "df"
   ]
  },
  {
   "cell_type": "markdown",
   "metadata": {},
   "source": [
    "In the video, the guy is referring to the mices as samples. I think those are individuals but yeah... the point is that the variables that are being measured are: \"Gene 1\"/\"Gene 2\"\n",
    "\n",
    "(Other variations of that same exercise are possible but yeah, let's just keep on going with this...)"
   ]
  },
  {
   "cell_type": "code",
   "execution_count": 29,
   "metadata": {},
   "outputs": [],
   "source": [
    "# I'm checking this course out real quick: https://www.youtube.com/watch?v=uV5hmpzmWsU\n",
    "# it gives the complete theory behind that notion...\n",
    "# a nice intro sentence I like:\"so far we were doing only 1 variable analysis most of the time\"\n",
    "    # variance\n",
    "    # mean\n",
    "    # std dev\n",
    "# of the same variable that we would compare in hypothesis testing...\n",
    "\n",
    "# but this time, we're analyzing a loooot of variable for 1 specific individual...\n",
    "# he's saying exploratory analysis is the oposite of inferential analysis and univariate and oposite of mutivariate\n"
   ]
  },
  {
   "cell_type": "code",
   "execution_count": 30,
   "metadata": {},
   "outputs": [],
   "source": [
    "# faaaar future lol: after the pca here are some other related concepts you can look at...:\n",
    "    # Heatmapas\n",
    "    # t-SNE plots\n",
    "    # multi dimensional scaling"
   ]
  },
  {
   "cell_type": "code",
   "execution_count": null,
   "metadata": {},
   "outputs": [],
   "source": [
    "# High level explanation of pca: with possible assignments you could do and make sense of...\n",
    "    # Only course: \n",
    "    # [Part 1] https://www.youtube.com/watch?v=pmG4K79DUoI \n",
    "    # [Part 2] https://www.youtube.com/watch?v=dhK8nbtii6I\n",
    "    # based on the above courses try to do this example: https://www.youtube.com/watch?v=XRCc3HbAF-k\n",
    "    \n",
    "    # Course and exercise:\n",
    "    # Eigen Faces: https://www.youtube.com/watch?v=_lY74pXWlS8 (techniques like pca are high dimensional and are about dimension reduction...)\n",
    "    # Eigen Faces (better exercise): https://www.youtube.com/watch?v=g4Urfno4aTc\n",
    "     \n"
   ]
  }
 ],
 "metadata": {
  "kernelspec": {
   "display_name": "Python 3",
   "language": "python",
   "name": "python3"
  },
  "language_info": {
   "codemirror_mode": {
    "name": "ipython",
    "version": 3
   },
   "file_extension": ".py",
   "mimetype": "text/x-python",
   "name": "python",
   "nbconvert_exporter": "python",
   "pygments_lexer": "ipython3",
   "version": "3.8.5"
  }
 },
 "nbformat": 4,
 "nbformat_minor": 4
}
